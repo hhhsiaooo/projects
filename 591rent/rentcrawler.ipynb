{
 "cells": [
  {
   "cell_type": "code",
   "execution_count": 1,
   "metadata": {},
   "outputs": [
    {
     "name": "stdout",
     "output_type": "stream",
     "text": [
      "Requirement already satisfied: selenium in c:\\users\\asuss\\anaconda3\\lib\\site-packages (3.141.0)\n",
      "Requirement already satisfied: urllib3 in c:\\users\\asuss\\anaconda3\\lib\\site-packages (from selenium) (1.24.2)\n"
     ]
    }
   ],
   "source": [
    "!pip install selenium"
   ]
  },
  {
   "cell_type": "code",
   "execution_count": null,
   "metadata": {
    "scrolled": true
   },
   "outputs": [],
   "source": [
    "import numpy as np\n",
    "import pandas as pd\n",
    "from urllib import request\n",
    "import requests\n",
    "from bs4 import BeautifulSoup\n",
    "import os"
   ]
  },
  {
   "cell_type": "code",
   "execution_count": 3,
   "metadata": {
    "scrolled": true
   },
   "outputs": [],
   "source": [
    "headers = {'User-Agent' : 'Mozilla/5.0 (Windows NT 10.0; Win64; x64) AppleWebKit/537.36 (KHTML, like Gecko) Chrome/90.0.4430.85 Safari/537.36',\n",
    "           'Cookie' : 'urlJumpIp=3'} #urlJumpIp修改為新北市\n",
    "\n",
    "resource_path = r'./housent'\n",
    "if not os.path.exists(resource_path):\n",
    "    os.mkdir(resource_path)\n"
   ]
  },
  {
   "cell_type": "code",
   "execution_count": 4,
   "metadata": {
    "scrolled": true
   },
   "outputs": [],
   "source": [
    "url = 'https://rent.591.com.tw/?kind=0'"
   ]
  },
  {
   "cell_type": "code",
   "execution_count": 6,
   "metadata": {
    "scrolled": false
   },
   "outputs": [
    {
     "name": "stdout",
     "output_type": "stream",
     "text": [
      "[]\n",
      "[]\n",
      "[]\n",
      "[]\n",
      "[]\n"
     ]
    }
   ],
   "source": [
    "title = []\n",
    "ref = []\n",
    "flr = []\n",
    "add = []\n",
    "price = []\n",
    "data = []\n",
    "\n",
    "\n",
    "for i in range(0,10):\n",
    "    res = requests.get(url, headers=headers)\n",
    "    soup = BeautifulSoup(res.text, 'html.parser')\n",
    "    rent = soup.select('li[class=\"pull-left infoContent\"]')\n",
    "    price_html = soup.select('div[class=\"price\"]')\n",
    "\n",
    "    for r in rent:\n",
    "        title.append(r.a.text.strip())\n",
    "        ref.append(r.a['href'])\n",
    "        flr.append(r.p.text.strip())\n",
    "        add.append(r.em.text.strip())\n",
    "        \n",
    "    for p in price_html:\n",
    "        price.append(p.i.text.strip())\n",
    "\n",
    "    last_page = soup.select('div[class=\"pageBar\"]')[0].select('a')[1]['href']\n",
    "    last_page = 'https://rent.591.com.tw/?kind=0&region=3'+ last_page\n",
    "    url=last_page\n",
    "\n",
    "print(title)\n",
    "print(ref)\n",
    "print(flr)\n",
    "print(add)\n",
    "print(price)\n",
    "    \n",
    "data = pd.DataFrame({\n",
    "    '標題':title,\n",
    "    '網址':ref,\n",
    "    '詳情':flr,\n",
    "    '地址':add,\n",
    "    '租金':price\n",
    "})\n",
    "    \n"
   ]
  },
  {
   "cell_type": "code",
   "execution_count": null,
   "metadata": {
    "scrolled": true
   },
   "outputs": [],
   "source": [
    "data"
   ]
  },
  {
   "cell_type": "code",
   "execution_count": null,
   "metadata": {
    "scrolled": true
   },
   "outputs": [],
   "source": [
    "data.to_csv('rentcrawler210921')"
   ]
  },
  {
   "cell_type": "code",
   "execution_count": null,
   "metadata": {},
   "outputs": [],
   "source": []
  }
 ],
 "metadata": {
  "kernelspec": {
   "display_name": "Python 3",
   "language": "python",
   "name": "python3"
  },
  "language_info": {
   "codemirror_mode": {
    "name": "ipython",
    "version": 3
   },
   "file_extension": ".py",
   "mimetype": "text/x-python",
   "name": "python",
   "nbconvert_exporter": "python",
   "pygments_lexer": "ipython3",
   "version": "3.7.3"
  }
 },
 "nbformat": 4,
 "nbformat_minor": 2
}
