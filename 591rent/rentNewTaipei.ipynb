{
 "cells": [
  {
   "cell_type": "markdown",
   "metadata": {},
   "source": [
    "# Import"
   ]
  },
  {
   "cell_type": "code",
   "execution_count": 1,
   "metadata": {},
   "outputs": [
    {
     "name": "stderr",
     "output_type": "stream",
     "text": [
      "C:\\Users\\asuss\\Anaconda3\\lib\\site-packages\\pandas\\compat\\_optional.py:138: UserWarning: Pandas requires version '2.7.0' or newer of 'numexpr' (version '2.6.9' currently installed).\n",
      "  warnings.warn(msg, UserWarning)\n",
      "C:\\Users\\asuss\\Anaconda3\\lib\\site-packages\\statsmodels\\tools\\_testing.py:19: FutureWarning: pandas.util.testing is deprecated. Use the functions in the public API at pandas.testing instead.\n",
      "  import pandas.util.testing as tm\n"
     ]
    }
   ],
   "source": [
    "import numpy as np\n",
    "import pandas as pd\n",
    "import matplotlib.pyplot as plt\n",
    "import seaborn as sns\n",
    "import time\n",
    "import warnings\n",
    "pd.options.mode.chained_assignment = None\n",
    "warnings.filterwarnings(\"ignore\", category=DeprecationWarning)"
   ]
  },
  {
   "cell_type": "code",
   "execution_count": 2,
   "metadata": {},
   "outputs": [
    {
     "data": {
      "text/html": [
       "<div>\n",
       "<style scoped>\n",
       "    .dataframe tbody tr th:only-of-type {\n",
       "        vertical-align: middle;\n",
       "    }\n",
       "\n",
       "    .dataframe tbody tr th {\n",
       "        vertical-align: top;\n",
       "    }\n",
       "\n",
       "    .dataframe thead th {\n",
       "        text-align: right;\n",
       "    }\n",
       "</style>\n",
       "<table border=\"1\" class=\"dataframe\">\n",
       "  <thead>\n",
       "    <tr style=\"text-align: right;\">\n",
       "      <th></th>\n",
       "      <th>標題</th>\n",
       "      <th>網址</th>\n",
       "      <th>詳情</th>\n",
       "      <th>地址</th>\n",
       "      <th>租金</th>\n",
       "    </tr>\n",
       "  </thead>\n",
       "  <tbody>\n",
       "    <tr>\n",
       "      <th>0</th>\n",
       "      <td>溫馨方正套房-豪宅式生活機能--蘆洲站</td>\n",
       "      <td>//rent.591.com.tw/rent-detail-7507197.html</td>\n",
       "      <td>獨立套房\\n\\n                                \\n\\n  ...</td>\n",
       "      <td>蘆洲區-長樂路</td>\n",
       "      <td>15,500</td>\n",
       "    </tr>\n",
       "    <tr>\n",
       "      <th>1</th>\n",
       "      <td>可貓.華翠大橋/萬板大橋.大空間2房1廳</td>\n",
       "      <td>//rent.591.com.tw/rent-detail-11329598.html</td>\n",
       "      <td>整層住家\\n\\n                                \\n    ...</td>\n",
       "      <td>板橋區-民治街</td>\n",
       "      <td>25,888</td>\n",
       "    </tr>\n",
       "    <tr>\n",
       "      <th>2</th>\n",
       "      <td>煮台對外大窗陽台遠東園區環球獨立洗衣機</td>\n",
       "      <td>//rent.591.com.tw/rent-detail-11349243.html</td>\n",
       "      <td>獨立套房\\n\\n                                \\n\\n  ...</td>\n",
       "      <td>中和區-新生街16巷</td>\n",
       "      <td>10,500</td>\n",
       "    </tr>\n",
       "    <tr>\n",
       "      <th>3</th>\n",
       "      <td>新台五路麥當勞獨立套房出租</td>\n",
       "      <td>//rent.591.com.tw/rent-detail-6792524.html</td>\n",
       "      <td>獨立套房\\n\\n                                \\n\\n  ...</td>\n",
       "      <td>汐止區-新台五路一段172號</td>\n",
       "      <td>8,000</td>\n",
       "    </tr>\n",
       "    <tr>\n",
       "      <th>4</th>\n",
       "      <td>迴龍捷運站萬安街便宜雅房，可現住/見說明</td>\n",
       "      <td>//rent.591.com.tw/rent-detail-11320426.html</td>\n",
       "      <td>雅房\\n\\n                                \\n\\n    ...</td>\n",
       "      <td>新莊區-萬安街</td>\n",
       "      <td>3,400</td>\n",
       "    </tr>\n",
       "    <tr>\n",
       "      <th>...</th>\n",
       "      <td>...</td>\n",
       "      <td>...</td>\n",
       "      <td>...</td>\n",
       "      <td>...</td>\n",
       "      <td>...</td>\n",
       "    </tr>\n",
       "    <tr>\n",
       "      <th>595</th>\n",
       "      <td>永和豫溪街(近頂溪捷運站)套房出租</td>\n",
       "      <td>//rent.591.com.tw/rent-detail-11458857.html</td>\n",
       "      <td>獨立套房\\n\\n                                \\n\\n  ...</td>\n",
       "      <td>永和區-豫溪街141號</td>\n",
       "      <td>6,500</td>\n",
       "    </tr>\n",
       "    <tr>\n",
       "      <th>596</th>\n",
       "      <td>板橋中正商圈兩房公寓</td>\n",
       "      <td>//rent.591.com.tw/rent-detail-11453557.html</td>\n",
       "      <td>整層住家\\n\\n                                \\n    ...</td>\n",
       "      <td>板橋區-金華街21巷</td>\n",
       "      <td>22,000</td>\n",
       "    </tr>\n",
       "    <tr>\n",
       "      <th>597</th>\n",
       "      <td>格套房/簡約風/舒適套房/家電全</td>\n",
       "      <td>//rent.591.com.tw/rent-detail-11366604.html</td>\n",
       "      <td>獨立套房\\n\\n                                \\n\\n  ...</td>\n",
       "      <td>蘆洲區-成功路</td>\n",
       "      <td>11,000</td>\n",
       "    </tr>\n",
       "    <tr>\n",
       "      <th>598</th>\n",
       "      <td>超大「1房1廳」!近新埔、埔墘商圈</td>\n",
       "      <td>//rent.591.com.tw/rent-detail-11413870.html</td>\n",
       "      <td>獨立套房\\n\\n                                \\n\\n  ...</td>\n",
       "      <td>板橋區-三民路二段</td>\n",
       "      <td>15,900</td>\n",
       "    </tr>\n",
       "    <tr>\n",
       "      <th>599</th>\n",
       "      <td>鄰近華梵大學及東南科技大學優質學生套房</td>\n",
       "      <td>//rent.591.com.tw/rent-detail-11455911.html</td>\n",
       "      <td>獨立套房\\n\\n                                \\n\\n  ...</td>\n",
       "      <td>深坑區-松柏街43巷5號</td>\n",
       "      <td>5,500</td>\n",
       "    </tr>\n",
       "  </tbody>\n",
       "</table>\n",
       "<p>600 rows × 5 columns</p>\n",
       "</div>"
      ],
      "text/plain": [
       "                       標題                                              網址  \\\n",
       "0     溫馨方正套房-豪宅式生活機能--蘆洲站    //rent.591.com.tw/rent-detail-7507197.html     \n",
       "1    可貓.華翠大橋/萬板大橋.大空間2房1廳   //rent.591.com.tw/rent-detail-11329598.html     \n",
       "2     煮台對外大窗陽台遠東園區環球獨立洗衣機   //rent.591.com.tw/rent-detail-11349243.html     \n",
       "3           新台五路麥當勞獨立套房出租    //rent.591.com.tw/rent-detail-6792524.html     \n",
       "4    迴龍捷運站萬安街便宜雅房，可現住/見說明   //rent.591.com.tw/rent-detail-11320426.html     \n",
       "..                    ...                                             ...   \n",
       "595     永和豫溪街(近頂溪捷運站)套房出租   //rent.591.com.tw/rent-detail-11458857.html     \n",
       "596            板橋中正商圈兩房公寓   //rent.591.com.tw/rent-detail-11453557.html     \n",
       "597      格套房/簡約風/舒適套房/家電全   //rent.591.com.tw/rent-detail-11366604.html     \n",
       "598     超大「1房1廳」!近新埔、埔墘商圈   //rent.591.com.tw/rent-detail-11413870.html     \n",
       "599   鄰近華梵大學及東南科技大學優質學生套房   //rent.591.com.tw/rent-detail-11455911.html     \n",
       "\n",
       "                                                    詳情              地址      租金  \n",
       "0    獨立套房\\n\\n                                \\n\\n  ...         蘆洲區-長樂路  15,500  \n",
       "1    整層住家\\n\\n                                \\n    ...         板橋區-民治街  25,888  \n",
       "2    獨立套房\\n\\n                                \\n\\n  ...      中和區-新生街16巷  10,500  \n",
       "3    獨立套房\\n\\n                                \\n\\n  ...  汐止區-新台五路一段172號   8,000  \n",
       "4    雅房\\n\\n                                \\n\\n    ...         新莊區-萬安街   3,400  \n",
       "..                                                 ...             ...     ...  \n",
       "595  獨立套房\\n\\n                                \\n\\n  ...     永和區-豫溪街141號   6,500  \n",
       "596  整層住家\\n\\n                                \\n    ...      板橋區-金華街21巷  22,000  \n",
       "597  獨立套房\\n\\n                                \\n\\n  ...         蘆洲區-成功路  11,000  \n",
       "598  獨立套房\\n\\n                                \\n\\n  ...       板橋區-三民路二段  15,900  \n",
       "599  獨立套房\\n\\n                                \\n\\n  ...    深坑區-松柏街43巷5號   5,500  \n",
       "\n",
       "[600 rows x 5 columns]"
      ]
     },
     "execution_count": 2,
     "metadata": {},
     "output_type": "execute_result"
    }
   ],
   "source": [
    "data = pd.read_csv('./rentcrawler210921', index_col=0)\n",
    "data"
   ]
  },
  {
   "cell_type": "code",
   "execution_count": 3,
   "metadata": {},
   "outputs": [
    {
     "name": "stdout",
     "output_type": "stream",
     "text": [
      "<class 'pandas.core.frame.DataFrame'>\n",
      "Int64Index: 600 entries, 0 to 599\n",
      "Data columns (total 5 columns):\n",
      " #   Column  Non-Null Count  Dtype \n",
      "---  ------  --------------  ----- \n",
      " 0   標題      600 non-null    object\n",
      " 1   網址      600 non-null    object\n",
      " 2   詳情      600 non-null    object\n",
      " 3   地址      600 non-null    object\n",
      " 4   租金      600 non-null    object\n",
      "dtypes: object(5)\n",
      "memory usage: 28.1+ KB\n"
     ]
    }
   ],
   "source": [
    "data.info()"
   ]
  },
  {
   "cell_type": "code",
   "execution_count": 4,
   "metadata": {},
   "outputs": [
    {
     "name": "stdout",
     "output_type": "stream",
     "text": [
      "data shape: (600, 5)\n"
     ]
    }
   ],
   "source": [
    "print('data shape:', data.shape)"
   ]
  },
  {
   "cell_type": "markdown",
   "metadata": {},
   "source": [
    "# Feature engineering"
   ]
  },
  {
   "cell_type": "code",
   "execution_count": 5,
   "metadata": {},
   "outputs": [
    {
     "data": {
      "text/plain": [
       "0      15500\n",
       "1      25888\n",
       "2      10500\n",
       "3       8000\n",
       "4       3400\n",
       "       ...  \n",
       "595     6500\n",
       "596    22000\n",
       "597    11000\n",
       "598    15900\n",
       "599     5500\n",
       "Name: 租金, Length: 600, dtype: int32"
      ]
     },
     "execution_count": 5,
     "metadata": {},
     "output_type": "execute_result"
    }
   ],
   "source": [
    "#租金轉化為整數型態\n",
    "#data = pd.read_csv('./rent210921', index_col=0, thousands=',')\n",
    "data['租金'] = data['租金'].str.replace(',','').astype('int')\n",
    "data['租金']"
   ]
  },
  {
   "cell_type": "code",
   "execution_count": 6,
   "metadata": {},
   "outputs": [
    {
     "data": {
      "text/plain": [
       "0      獨立套房\\n\\n                                \\n\\n  ...\n",
       "1      整層住家\\n\\n                                \\n    ...\n",
       "2      獨立套房\\n\\n                                \\n\\n  ...\n",
       "3      獨立套房\\n\\n                                \\n\\n  ...\n",
       "4      雅房\\n\\n                                \\n\\n    ...\n",
       "                             ...                        \n",
       "595    獨立套房\\n\\n                                \\n\\n  ...\n",
       "596    整層住家\\n\\n                                \\n    ...\n",
       "597    獨立套房\\n\\n                                \\n\\n  ...\n",
       "598    獨立套房\\n\\n                                \\n\\n  ...\n",
       "599    獨立套房\\n\\n                                \\n\\n  ...\n",
       "Name: 詳情, Length: 600, dtype: object"
      ]
     },
     "execution_count": 6,
     "metadata": {},
     "output_type": "execute_result"
    }
   ],
   "source": [
    "data['詳情'] = data['詳情'].str.replace('\\xa0', '').replace('\\n', '').replace(' ','')\n",
    "data['詳情']"
   ]
  },
  {
   "cell_type": "code",
   "execution_count": 7,
   "metadata": {},
   "outputs": [
    {
     "data": {
      "text/plain": [
       "獨立套房    243\n",
       "整層住家    210\n",
       "分租套房     95\n",
       "雅房       32\n",
       "車位       17\n",
       "其他        3\n",
       "Name: 房型, dtype: int64"
      ]
     },
     "execution_count": 7,
     "metadata": {},
     "output_type": "execute_result"
    }
   ],
   "source": [
    "data['房型'] = data['詳情'].str.split('|').str.get(0)\n",
    "data['房型'] = data['房型'].str.strip()\n",
    "data['房型'].value_counts()"
   ]
  },
  {
   "cell_type": "code",
   "execution_count": 8,
   "metadata": {},
   "outputs": [
    {
     "data": {
      "text/plain": [
       "獨立套房    243\n",
       "整層住家    210\n",
       "分租套房     95\n",
       "雅房       32\n",
       "Name: 房型, dtype: int64"
      ]
     },
     "execution_count": 8,
     "metadata": {},
     "output_type": "execute_result"
    }
   ],
   "source": [
    "#只分析房型:獨立套房/整層住家/分租套房/雅房\n",
    "data = data.drop(data[data['房型'] == '車位'].index)\n",
    "data = data.drop(data[data['房型'] == '其他'].index)\n",
    "data['房型'].value_counts()"
   ]
  },
  {
   "cell_type": "code",
   "execution_count": 9,
   "metadata": {},
   "outputs": [],
   "source": [
    "data_family = data[data['房型'] == '整層住家']\n",
    "data_not_family = data[data['房型'] != '整層住家']"
   ]
  },
  {
   "cell_type": "code",
   "execution_count": 10,
   "metadata": {},
   "outputs": [
    {
     "data": {
      "text/plain": [
       "1      2\n",
       "5      3\n",
       "9      4\n",
       "17     3\n",
       "23     3\n",
       "      ..\n",
       "577    3\n",
       "580    2\n",
       "588    2\n",
       "594    3\n",
       "596    2\n",
       "Name: 格局, Length: 205, dtype: int32"
      ]
     },
     "execution_count": 10,
     "metadata": {},
     "output_type": "execute_result"
    }
   ],
   "source": [
    "data_family['格局'] = data_family['詳情'].str.split('|').str.get(1)\n",
    "data_family['格局'] = data_family['格局'].str.strip()\n",
    "data_family['格局'] = data_family['格局'].str[:1]\n",
    "data_family = data_family[data_family['格局'] != '開'] #去除開放式空間的格局\n",
    "data_family['格局'] = data_family['格局'].astype('int')\n",
    "data_family['格局']"
   ]
  },
  {
   "cell_type": "code",
   "execution_count": 11,
   "metadata": {},
   "outputs": [
    {
     "data": {
      "text/plain": [
       "1      25.0\n",
       "5      50.0\n",
       "9      46.3\n",
       "17     39.0\n",
       "23     29.0\n",
       "       ... \n",
       "577    41.2\n",
       "580    17.0\n",
       "588    20.0\n",
       "594    26.0\n",
       "596    21.6\n",
       "Name: 坪數, Length: 205, dtype: float64"
      ]
     },
     "execution_count": 11,
     "metadata": {},
     "output_type": "execute_result"
    }
   ],
   "source": [
    "data_family['坪數'] = data_family['詳情'].str.split('|').str.get(2)\n",
    "data_family['坪數'] = data_family['坪數'].str.strip()\n",
    "data_family['坪數'] = data_family['坪數'].apply(lambda x : ''.join([i for i in x if i.isdigit() or i=='.']))\n",
    "data_family['坪數'] = data_family['坪數'].astype('float')\n",
    "data_family['坪數']"
   ]
  },
  {
   "cell_type": "code",
   "execution_count": 12,
   "metadata": {},
   "outputs": [
    {
     "data": {
      "text/plain": [
       "1       5\n",
       "5       2\n",
       "9       1\n",
       "17     12\n",
       "23      3\n",
       "       ..\n",
       "577     3\n",
       "580     4\n",
       "588     5\n",
       "594     3\n",
       "596     3\n",
       "Name: 樓層, Length: 205, dtype: object"
      ]
     },
     "execution_count": 12,
     "metadata": {},
     "output_type": "execute_result"
    }
   ],
   "source": [
    "data_family['樓層'] = data_family['詳情'].str.split('|').str.get(3)\n",
    "data_family['樓層'] = data_family['樓層'].str.split('：').str.get(1)\n",
    "data_family['樓層'] = data_family['樓層'].str.split('/').str.get(0)\n",
    "data_family['樓層']"
   ]
  },
  {
   "cell_type": "code",
   "execution_count": 13,
   "metadata": {},
   "outputs": [
    {
     "data": {
      "text/plain": [
       "0      1\n",
       "2      1\n",
       "3      1\n",
       "4      1\n",
       "6      1\n",
       "      ..\n",
       "593    1\n",
       "595    1\n",
       "597    1\n",
       "598    1\n",
       "599    1\n",
       "Name: 格局, Length: 370, dtype: int32"
      ]
     },
     "execution_count": 13,
     "metadata": {},
     "output_type": "execute_result"
    }
   ],
   "source": [
    "data_not_family['格局'] = '1'\n",
    "data_not_family['格局'] = data_not_family['格局'].astype('int')\n",
    "data_not_family['格局']"
   ]
  },
  {
   "cell_type": "code",
   "execution_count": 14,
   "metadata": {},
   "outputs": [
    {
     "data": {
      "text/plain": [
       "0       7.0\n",
       "2       8.0\n",
       "3       6.0\n",
       "4       5.0\n",
       "6       9.5\n",
       "       ... \n",
       "593     5.0\n",
       "595     6.0\n",
       "597    10.0\n",
       "598    17.0\n",
       "599     5.0\n",
       "Name: 坪數, Length: 370, dtype: float64"
      ]
     },
     "execution_count": 14,
     "metadata": {},
     "output_type": "execute_result"
    }
   ],
   "source": [
    "data_not_family['坪數'] = data_not_family['詳情'].str.split('|').str.get(1)\n",
    "data_not_family['坪數'] = data_not_family['坪數'].str.strip()\n",
    "data_not_family['坪數'] = data_not_family['坪數'].apply(lambda x : ''.join([i for i in x if i.isdigit() or i=='.']))\n",
    "data_not_family['坪數'] = data_not_family['坪數'].astype('float')\n",
    "data_not_family['坪數']"
   ]
  },
  {
   "cell_type": "code",
   "execution_count": 15,
   "metadata": {},
   "outputs": [
    {
     "data": {
      "text/plain": [
       "0         3\n",
       "2         5\n",
       "3         1\n",
       "4         5\n",
       "6      頂樓加蓋\n",
       "       ... \n",
       "593       3\n",
       "595       4\n",
       "597       4\n",
       "598       2\n",
       "599       2\n",
       "Name: 樓層, Length: 370, dtype: object"
      ]
     },
     "execution_count": 15,
     "metadata": {},
     "output_type": "execute_result"
    }
   ],
   "source": [
    "data_not_family['樓層'] = data_not_family['詳情'].str.split('|').str.get(2)\n",
    "data_not_family['樓層'] = data_not_family['樓層'].str.split('：').str.get(1)\n",
    "data_not_family['樓層'] = data_not_family['樓層'].str.split('/').str.get(0)\n",
    "data_not_family['樓層']"
   ]
  },
  {
   "cell_type": "code",
   "execution_count": 16,
   "metadata": {},
   "outputs": [
    {
     "data": {
      "text/html": [
       "<div>\n",
       "<style scoped>\n",
       "    .dataframe tbody tr th:only-of-type {\n",
       "        vertical-align: middle;\n",
       "    }\n",
       "\n",
       "    .dataframe tbody tr th {\n",
       "        vertical-align: top;\n",
       "    }\n",
       "\n",
       "    .dataframe thead th {\n",
       "        text-align: right;\n",
       "    }\n",
       "</style>\n",
       "<table border=\"1\" class=\"dataframe\">\n",
       "  <thead>\n",
       "    <tr style=\"text-align: right;\">\n",
       "      <th></th>\n",
       "      <th>標題</th>\n",
       "      <th>網址</th>\n",
       "      <th>詳情</th>\n",
       "      <th>地址</th>\n",
       "      <th>租金</th>\n",
       "      <th>房型</th>\n",
       "      <th>格局</th>\n",
       "      <th>坪數</th>\n",
       "      <th>樓層</th>\n",
       "    </tr>\n",
       "  </thead>\n",
       "  <tbody>\n",
       "    <tr>\n",
       "      <th>0</th>\n",
       "      <td>溫馨方正套房-豪宅式生活機能--蘆洲站</td>\n",
       "      <td>//rent.591.com.tw/rent-detail-7507197.html</td>\n",
       "      <td>獨立套房\\n\\n                                \\n\\n  ...</td>\n",
       "      <td>蘆洲區-長樂路</td>\n",
       "      <td>15500</td>\n",
       "      <td>獨立套房</td>\n",
       "      <td>1</td>\n",
       "      <td>7.0</td>\n",
       "      <td>3</td>\n",
       "    </tr>\n",
       "    <tr>\n",
       "      <th>1</th>\n",
       "      <td>煮台對外大窗陽台遠東園區環球獨立洗衣機</td>\n",
       "      <td>//rent.591.com.tw/rent-detail-11349243.html</td>\n",
       "      <td>獨立套房\\n\\n                                \\n\\n  ...</td>\n",
       "      <td>中和區-新生街16巷</td>\n",
       "      <td>10500</td>\n",
       "      <td>獨立套房</td>\n",
       "      <td>1</td>\n",
       "      <td>8.0</td>\n",
       "      <td>5</td>\n",
       "    </tr>\n",
       "    <tr>\n",
       "      <th>2</th>\n",
       "      <td>新台五路麥當勞獨立套房出租</td>\n",
       "      <td>//rent.591.com.tw/rent-detail-6792524.html</td>\n",
       "      <td>獨立套房\\n\\n                                \\n\\n  ...</td>\n",
       "      <td>汐止區-新台五路一段172號</td>\n",
       "      <td>8000</td>\n",
       "      <td>獨立套房</td>\n",
       "      <td>1</td>\n",
       "      <td>6.0</td>\n",
       "      <td>1</td>\n",
       "    </tr>\n",
       "    <tr>\n",
       "      <th>3</th>\n",
       "      <td>迴龍捷運站萬安街便宜雅房，可現住/見說明</td>\n",
       "      <td>//rent.591.com.tw/rent-detail-11320426.html</td>\n",
       "      <td>雅房\\n\\n                                \\n\\n    ...</td>\n",
       "      <td>新莊區-萬安街</td>\n",
       "      <td>3400</td>\n",
       "      <td>雅房</td>\n",
       "      <td>1</td>\n",
       "      <td>5.0</td>\n",
       "      <td>5</td>\n",
       "    </tr>\n",
       "    <tr>\n",
       "      <th>4</th>\n",
       "      <td>設計師品味裝潢捷運套房</td>\n",
       "      <td>//rent.591.com.tw/rent-detail-11393689.html</td>\n",
       "      <td>獨立套房\\n\\n                                \\n\\n  ...</td>\n",
       "      <td>板橋區-懷德街181巷</td>\n",
       "      <td>16000</td>\n",
       "      <td>獨立套房</td>\n",
       "      <td>1</td>\n",
       "      <td>9.5</td>\n",
       "      <td>頂樓加蓋</td>\n",
       "    </tr>\n",
       "    <tr>\n",
       "      <th>...</th>\n",
       "      <td>...</td>\n",
       "      <td>...</td>\n",
       "      <td>...</td>\n",
       "      <td>...</td>\n",
       "      <td>...</td>\n",
       "      <td>...</td>\n",
       "      <td>...</td>\n",
       "      <td>...</td>\n",
       "      <td>...</td>\n",
       "    </tr>\n",
       "    <tr>\n",
       "      <th>570</th>\n",
       "      <td>誠徵長期優質租客.全新未住過.優質社區</td>\n",
       "      <td>//rent.591.com.tw/rent-detail-11418848.html</td>\n",
       "      <td>整層住家\\n\\n                                \\n    ...</td>\n",
       "      <td>鶯歌區-龍七路</td>\n",
       "      <td>24800</td>\n",
       "      <td>整層住家</td>\n",
       "      <td>3</td>\n",
       "      <td>41.2</td>\n",
       "      <td>3</td>\n",
       "    </tr>\n",
       "    <tr>\n",
       "      <th>571</th>\n",
       "      <td>精緻溫馨風簡約二房近成蘆橋</td>\n",
       "      <td>//rent.591.com.tw/rent-detail-11414979.html</td>\n",
       "      <td>整層住家\\n\\n                                \\n    ...</td>\n",
       "      <td>五股區-成泰路三段589巷</td>\n",
       "      <td>16500</td>\n",
       "      <td>整層住家</td>\n",
       "      <td>2</td>\n",
       "      <td>17.0</td>\n",
       "      <td>4</td>\n",
       "    </tr>\n",
       "    <tr>\n",
       "      <th>572</th>\n",
       "      <td>新新新二房佰萬裝潢高級傢俱</td>\n",
       "      <td>//rent.591.com.tw/rent-detail-11337716.html</td>\n",
       "      <td>整層住家\\n\\n                                \\n    ...</td>\n",
       "      <td>板橋區-五權街</td>\n",
       "      <td>19800</td>\n",
       "      <td>整層住家</td>\n",
       "      <td>2</td>\n",
       "      <td>20.0</td>\n",
       "      <td>5</td>\n",
       "    </tr>\n",
       "    <tr>\n",
       "      <th>573</th>\n",
       "      <td>鬧中取靜舒適宅</td>\n",
       "      <td>//rent.591.com.tw/rent-detail-11310101.html</td>\n",
       "      <td>整層住家\\n\\n                                \\n    ...</td>\n",
       "      <td>土城區-延峰街33巷5號</td>\n",
       "      <td>19000</td>\n",
       "      <td>整層住家</td>\n",
       "      <td>3</td>\n",
       "      <td>26.0</td>\n",
       "      <td>3</td>\n",
       "    </tr>\n",
       "    <tr>\n",
       "      <th>574</th>\n",
       "      <td>板橋中正商圈兩房公寓</td>\n",
       "      <td>//rent.591.com.tw/rent-detail-11453557.html</td>\n",
       "      <td>整層住家\\n\\n                                \\n    ...</td>\n",
       "      <td>板橋區-金華街21巷</td>\n",
       "      <td>22000</td>\n",
       "      <td>整層住家</td>\n",
       "      <td>2</td>\n",
       "      <td>21.6</td>\n",
       "      <td>3</td>\n",
       "    </tr>\n",
       "  </tbody>\n",
       "</table>\n",
       "<p>575 rows × 9 columns</p>\n",
       "</div>"
      ],
      "text/plain": [
       "                       標題                                              網址  \\\n",
       "0     溫馨方正套房-豪宅式生活機能--蘆洲站    //rent.591.com.tw/rent-detail-7507197.html     \n",
       "1     煮台對外大窗陽台遠東園區環球獨立洗衣機   //rent.591.com.tw/rent-detail-11349243.html     \n",
       "2           新台五路麥當勞獨立套房出租    //rent.591.com.tw/rent-detail-6792524.html     \n",
       "3    迴龍捷運站萬安街便宜雅房，可現住/見說明   //rent.591.com.tw/rent-detail-11320426.html     \n",
       "4             設計師品味裝潢捷運套房   //rent.591.com.tw/rent-detail-11393689.html     \n",
       "..                    ...                                             ...   \n",
       "570   誠徵長期優質租客.全新未住過.優質社區   //rent.591.com.tw/rent-detail-11418848.html     \n",
       "571         精緻溫馨風簡約二房近成蘆橋   //rent.591.com.tw/rent-detail-11414979.html     \n",
       "572         新新新二房佰萬裝潢高級傢俱   //rent.591.com.tw/rent-detail-11337716.html     \n",
       "573               鬧中取靜舒適宅   //rent.591.com.tw/rent-detail-11310101.html     \n",
       "574            板橋中正商圈兩房公寓   //rent.591.com.tw/rent-detail-11453557.html     \n",
       "\n",
       "                                                    詳情              地址     租金  \\\n",
       "0    獨立套房\\n\\n                                \\n\\n  ...         蘆洲區-長樂路  15500   \n",
       "1    獨立套房\\n\\n                                \\n\\n  ...      中和區-新生街16巷  10500   \n",
       "2    獨立套房\\n\\n                                \\n\\n  ...  汐止區-新台五路一段172號   8000   \n",
       "3    雅房\\n\\n                                \\n\\n    ...         新莊區-萬安街   3400   \n",
       "4    獨立套房\\n\\n                                \\n\\n  ...     板橋區-懷德街181巷  16000   \n",
       "..                                                 ...             ...    ...   \n",
       "570  整層住家\\n\\n                                \\n    ...         鶯歌區-龍七路  24800   \n",
       "571  整層住家\\n\\n                                \\n    ...   五股區-成泰路三段589巷  16500   \n",
       "572  整層住家\\n\\n                                \\n    ...         板橋區-五權街  19800   \n",
       "573  整層住家\\n\\n                                \\n    ...    土城區-延峰街33巷5號  19000   \n",
       "574  整層住家\\n\\n                                \\n    ...      板橋區-金華街21巷  22000   \n",
       "\n",
       "       房型  格局    坪數    樓層  \n",
       "0    獨立套房   1   7.0     3  \n",
       "1    獨立套房   1   8.0     5  \n",
       "2    獨立套房   1   6.0     1  \n",
       "3      雅房   1   5.0     5  \n",
       "4    獨立套房   1   9.5  頂樓加蓋  \n",
       "..    ...  ..   ...   ...  \n",
       "570  整層住家   3  41.2     3  \n",
       "571  整層住家   2  17.0     4  \n",
       "572  整層住家   2  20.0     5  \n",
       "573  整層住家   3  26.0     3  \n",
       "574  整層住家   2  21.6     3  \n",
       "\n",
       "[575 rows x 9 columns]"
      ]
     },
     "execution_count": 16,
     "metadata": {},
     "output_type": "execute_result"
    }
   ],
   "source": [
    "data = data_not_family.append(data_family).reset_index(drop=True)\n",
    "data"
   ]
  },
  {
   "cell_type": "markdown",
   "metadata": {},
   "source": []
  },
  {
   "cell_type": "code",
   "execution_count": 17,
   "metadata": {},
   "outputs": [
    {
     "data": {
      "text/plain": [
       "0      蘆洲區\n",
       "1      中和區\n",
       "2      汐止區\n",
       "3      新莊區\n",
       "4      板橋區\n",
       "      ... \n",
       "570    鶯歌區\n",
       "571    五股區\n",
       "572    板橋區\n",
       "573    土城區\n",
       "574    板橋區\n",
       "Name: 地區, Length: 575, dtype: object"
      ]
     },
     "execution_count": 17,
     "metadata": {},
     "output_type": "execute_result"
    }
   ],
   "source": [
    "data['地區'] = data['地址'].str.split('-').str.get(0)\n",
    "data['地區']"
   ]
  },
  {
   "cell_type": "code",
   "execution_count": 18,
   "metadata": {},
   "outputs": [
    {
     "data": {
      "text/plain": [
       "板橋區    140\n",
       "三重區     88\n",
       "中和區     77\n",
       "新莊區     53\n",
       "永和區     53\n",
       "蘆洲區     38\n",
       "淡水區     30\n",
       "新店區     25\n",
       "汐止區     20\n",
       "土城區     20\n",
       "林口區     10\n",
       "五股區      5\n",
       "樹林區      5\n",
       "三峽區      4\n",
       "八里區      3\n",
       "鶯歌區      2\n",
       "泰山區      1\n",
       "深坑區      1\n",
       "Name: 地區, dtype: int64"
      ]
     },
     "execution_count": 18,
     "metadata": {},
     "output_type": "execute_result"
    }
   ],
   "source": [
    "data['地區'].value_counts() #分類太多 將相近的區域結合"
   ]
  },
  {
   "cell_type": "code",
   "execution_count": 19,
   "metadata": {},
   "outputs": [
    {
     "data": {
      "text/html": [
       "<div>\n",
       "<style scoped>\n",
       "    .dataframe tbody tr th:only-of-type {\n",
       "        vertical-align: middle;\n",
       "    }\n",
       "\n",
       "    .dataframe tbody tr th {\n",
       "        vertical-align: top;\n",
       "    }\n",
       "\n",
       "    .dataframe thead th {\n",
       "        text-align: right;\n",
       "    }\n",
       "</style>\n",
       "<table border=\"1\" class=\"dataframe\">\n",
       "  <thead>\n",
       "    <tr style=\"text-align: right;\">\n",
       "      <th></th>\n",
       "      <th>標題</th>\n",
       "      <th>網址</th>\n",
       "      <th>詳情</th>\n",
       "      <th>地址</th>\n",
       "      <th>租金</th>\n",
       "      <th>房型</th>\n",
       "      <th>格局</th>\n",
       "      <th>坪數</th>\n",
       "      <th>樓層</th>\n",
       "      <th>地區</th>\n",
       "      <th>分區</th>\n",
       "    </tr>\n",
       "  </thead>\n",
       "  <tbody>\n",
       "    <tr>\n",
       "      <th>0</th>\n",
       "      <td>淡水捷運3分鐘~小資男女孩最嚮往的小屋~</td>\n",
       "      <td>//rent.591.com.tw/rent-detail-6737647.html</td>\n",
       "      <td>獨立套房\\n\\n                                \\n\\n  ...</td>\n",
       "      <td>淡水區-英專路21巷28號</td>\n",
       "      <td>8000</td>\n",
       "      <td>獨立套房</td>\n",
       "      <td>1</td>\n",
       "      <td>7.0</td>\n",
       "      <td>5</td>\n",
       "      <td>淡水區</td>\n",
       "      <td>淡海</td>\n",
       "    </tr>\n",
       "    <tr>\n",
       "      <th>1</th>\n",
       "      <td>可提供短租、月租，近淡水捷運站</td>\n",
       "      <td>//rent.591.com.tw/rent-detail-11337817.html</td>\n",
       "      <td>獨立套房\\n\\n                                \\n\\n  ...</td>\n",
       "      <td>淡水區-長興街</td>\n",
       "      <td>15000</td>\n",
       "      <td>獨立套房</td>\n",
       "      <td>1</td>\n",
       "      <td>8.0</td>\n",
       "      <td>3</td>\n",
       "      <td>淡水區</td>\n",
       "      <td>淡海</td>\n",
       "    </tr>\n",
       "    <tr>\n",
       "      <th>2</th>\n",
       "      <td>真理套房十秒校門攝影監控消防安全敞亮海洋</td>\n",
       "      <td>//rent.591.com.tw/rent-detail-11372834.html</td>\n",
       "      <td>獨立套房\\n\\n                                \\n\\n  ...</td>\n",
       "      <td>淡水區-新民街180巷</td>\n",
       "      <td>4500</td>\n",
       "      <td>獨立套房</td>\n",
       "      <td>1</td>\n",
       "      <td>5.0</td>\n",
       "      <td>2</td>\n",
       "      <td>淡水區</td>\n",
       "      <td>淡海</td>\n",
       "    </tr>\n",
       "    <tr>\n",
       "      <th>3</th>\n",
       "      <td>淡水捷運凱蒂公主主題館(限女性)</td>\n",
       "      <td>//rent.591.com.tw/rent-detail-11426879.html</td>\n",
       "      <td>獨立套房\\n\\n                                \\n\\n  ...</td>\n",
       "      <td>淡水區-中山路</td>\n",
       "      <td>11500</td>\n",
       "      <td>獨立套房</td>\n",
       "      <td>1</td>\n",
       "      <td>9.0</td>\n",
       "      <td>4</td>\n",
       "      <td>淡水區</td>\n",
       "      <td>淡海</td>\n",
       "    </tr>\n",
       "    <tr>\n",
       "      <th>4</th>\n",
       "      <td>淡大101旁line:fredhao56</td>\n",
       "      <td>//rent.591.com.tw/rent-detail-11377906.html</td>\n",
       "      <td>獨立套房\\n\\n                                \\n\\n  ...</td>\n",
       "      <td>淡水區-水源街二段92巷</td>\n",
       "      <td>5500</td>\n",
       "      <td>獨立套房</td>\n",
       "      <td>1</td>\n",
       "      <td>5.0</td>\n",
       "      <td>1</td>\n",
       "      <td>淡水區</td>\n",
       "      <td>淡海</td>\n",
       "    </tr>\n",
       "    <tr>\n",
       "      <th>...</th>\n",
       "      <td>...</td>\n",
       "      <td>...</td>\n",
       "      <td>...</td>\n",
       "      <td>...</td>\n",
       "      <td>...</td>\n",
       "      <td>...</td>\n",
       "      <td>...</td>\n",
       "      <td>...</td>\n",
       "      <td>...</td>\n",
       "      <td>...</td>\n",
       "      <td>...</td>\n",
       "    </tr>\n",
       "    <tr>\n",
       "      <th>570</th>\n",
       "      <td>鬧中取靜舒適宅</td>\n",
       "      <td>//rent.591.com.tw/rent-detail-11310101.html</td>\n",
       "      <td>整層住家\\n\\n                                \\n    ...</td>\n",
       "      <td>土城區-延峰街33巷5號</td>\n",
       "      <td>19000</td>\n",
       "      <td>整層住家</td>\n",
       "      <td>3</td>\n",
       "      <td>26.0</td>\n",
       "      <td>3</td>\n",
       "      <td>土城區</td>\n",
       "      <td>樹鶯土峽</td>\n",
       "    </tr>\n",
       "    <tr>\n",
       "      <th>571</th>\n",
       "      <td>全新裝潢三峽智能家居獨立套房近恩主公</td>\n",
       "      <td>//rent.591.com.tw/rent-detail-11404211.html</td>\n",
       "      <td>獨立套房\\n\\n                                \\n\\n  ...</td>\n",
       "      <td>三峽區-中山路267號</td>\n",
       "      <td>7500</td>\n",
       "      <td>獨立套房</td>\n",
       "      <td>1</td>\n",
       "      <td>8.0</td>\n",
       "      <td>3</td>\n",
       "      <td>三峽區</td>\n",
       "      <td>樹鶯土峽</td>\n",
       "    </tr>\n",
       "    <tr>\n",
       "      <th>572</th>\n",
       "      <td>▋▋楊凱婷▋▋全新未住▋▋景觀戶▋▋超讚</td>\n",
       "      <td>//rent.591.com.tw/rent-detail-11453500.html</td>\n",
       "      <td>整層住家\\n\\n                                \\n    ...</td>\n",
       "      <td>三峽區-民生街1巷</td>\n",
       "      <td>22000</td>\n",
       "      <td>整層住家</td>\n",
       "      <td>2</td>\n",
       "      <td>35.6</td>\n",
       "      <td>7</td>\n",
       "      <td>三峽區</td>\n",
       "      <td>樹鶯土峽</td>\n",
       "    </tr>\n",
       "    <tr>\n",
       "      <th>573</th>\n",
       "      <td>▋▋楊凱婷▋▋全新未住▋▋景觀戶▋▋超讚</td>\n",
       "      <td>//rent.591.com.tw/rent-detail-11453500.html</td>\n",
       "      <td>整層住家\\n\\n                                \\n    ...</td>\n",
       "      <td>三峽區-民生街1巷</td>\n",
       "      <td>22000</td>\n",
       "      <td>整層住家</td>\n",
       "      <td>2</td>\n",
       "      <td>35.6</td>\n",
       "      <td>7</td>\n",
       "      <td>三峽區</td>\n",
       "      <td>樹鶯土峽</td>\n",
       "    </tr>\n",
       "    <tr>\n",
       "      <th>574</th>\n",
       "      <td>電梯大樓3房高樓層含車位及管理費</td>\n",
       "      <td>//rent.591.com.tw/rent-detail-11453475.html</td>\n",
       "      <td>整層住家\\n\\n                                \\n    ...</td>\n",
       "      <td>三峽區-國光街</td>\n",
       "      <td>20500</td>\n",
       "      <td>整層住家</td>\n",
       "      <td>3</td>\n",
       "      <td>32.0</td>\n",
       "      <td>8</td>\n",
       "      <td>三峽區</td>\n",
       "      <td>樹鶯土峽</td>\n",
       "    </tr>\n",
       "  </tbody>\n",
       "</table>\n",
       "<p>575 rows × 11 columns</p>\n",
       "</div>"
      ],
      "text/plain": [
       "                       標題                                              網址  \\\n",
       "0    淡水捷運3分鐘~小資男女孩最嚮往的小屋~    //rent.591.com.tw/rent-detail-6737647.html     \n",
       "1         可提供短租、月租，近淡水捷運站   //rent.591.com.tw/rent-detail-11337817.html     \n",
       "2    真理套房十秒校門攝影監控消防安全敞亮海洋   //rent.591.com.tw/rent-detail-11372834.html     \n",
       "3        淡水捷運凱蒂公主主題館(限女性)   //rent.591.com.tw/rent-detail-11426879.html     \n",
       "4    淡大101旁line:fredhao56   //rent.591.com.tw/rent-detail-11377906.html     \n",
       "..                    ...                                             ...   \n",
       "570               鬧中取靜舒適宅   //rent.591.com.tw/rent-detail-11310101.html     \n",
       "571    全新裝潢三峽智能家居獨立套房近恩主公   //rent.591.com.tw/rent-detail-11404211.html     \n",
       "572  ▋▋楊凱婷▋▋全新未住▋▋景觀戶▋▋超讚   //rent.591.com.tw/rent-detail-11453500.html     \n",
       "573  ▋▋楊凱婷▋▋全新未住▋▋景觀戶▋▋超讚   //rent.591.com.tw/rent-detail-11453500.html     \n",
       "574      電梯大樓3房高樓層含車位及管理費   //rent.591.com.tw/rent-detail-11453475.html     \n",
       "\n",
       "                                                    詳情             地址     租金  \\\n",
       "0    獨立套房\\n\\n                                \\n\\n  ...  淡水區-英專路21巷28號   8000   \n",
       "1    獨立套房\\n\\n                                \\n\\n  ...        淡水區-長興街  15000   \n",
       "2    獨立套房\\n\\n                                \\n\\n  ...    淡水區-新民街180巷   4500   \n",
       "3    獨立套房\\n\\n                                \\n\\n  ...        淡水區-中山路  11500   \n",
       "4    獨立套房\\n\\n                                \\n\\n  ...   淡水區-水源街二段92巷   5500   \n",
       "..                                                 ...            ...    ...   \n",
       "570  整層住家\\n\\n                                \\n    ...   土城區-延峰街33巷5號  19000   \n",
       "571  獨立套房\\n\\n                                \\n\\n  ...    三峽區-中山路267號   7500   \n",
       "572  整層住家\\n\\n                                \\n    ...      三峽區-民生街1巷  22000   \n",
       "573  整層住家\\n\\n                                \\n    ...      三峽區-民生街1巷  22000   \n",
       "574  整層住家\\n\\n                                \\n    ...        三峽區-國光街  20500   \n",
       "\n",
       "       房型  格局    坪數 樓層   地區    分區  \n",
       "0    獨立套房   1   7.0  5  淡水區    淡海  \n",
       "1    獨立套房   1   8.0  3  淡水區    淡海  \n",
       "2    獨立套房   1   5.0  2  淡水區    淡海  \n",
       "3    獨立套房   1   9.0  4  淡水區    淡海  \n",
       "4    獨立套房   1   5.0  1  淡水區    淡海  \n",
       "..    ...  ..   ... ..  ...   ...  \n",
       "570  整層住家   3  26.0  3  土城區  樹鶯土峽  \n",
       "571  獨立套房   1   8.0  3  三峽區  樹鶯土峽  \n",
       "572  整層住家   2  35.6  7  三峽區  樹鶯土峽  \n",
       "573  整層住家   2  35.6  7  三峽區  樹鶯土峽  \n",
       "574  整層住家   3  32.0  8  三峽區  樹鶯土峽  \n",
       "\n",
       "[575 rows x 11 columns]"
      ]
     },
     "execution_count": 19,
     "metadata": {},
     "output_type": "execute_result"
    }
   ],
   "source": [
    "data_tamsui = data[data['地區']=='淡水區'].append(data[data['地區']=='八里區'])\n",
    "data_sls = data[data['地區']=='三重區'].append(data[data['地區']=='蘆洲區']).append(data[data['地區']=='新莊區'])\n",
    "data_wt = data[data['地區']=='五股區'].append(data[data['地區']=='泰山區'])\n",
    "data_bhh = data[data['地區']=='板橋區'].append(data[data['地區']=='中和區']).append(data[data['地區']=='永和區'])\n",
    "data_xs = data[data['地區']=='新店區'].append(data[data['地區']=='深坑區'])\n",
    "data_xizhi = data[data['地區']=='汐止區']\n",
    "data_linkou = data[data['地區']=='林口區']\n",
    "data_syts = data[data['地區']=='樹林區'].append(data[data['地區']=='鶯歌區']).append(data[data['地區']=='土城區']).append(data[data['地區']=='三峽區'])\n",
    "\n",
    "data_tamsui['分區'] = '淡海'\n",
    "data_sls['分區'] = '三蘆新莊'\n",
    "data_wt['分區'] = '五股泰山'\n",
    "data_bhh['分區'] = '板中永和'\n",
    "data_xs['分區'] = '新店深坑'\n",
    "data_xizhi['分區'] = '汐止'\n",
    "data_linkou['分區'] = '林口'\n",
    "data_syts['分區'] = '樹鶯土峽'\n",
    "\n",
    "data = data_tamsui.append(data_sls).append(data_wt).append(data_bhh).append(data_xs).append(data_xizhi).append(data_linkou).append(data_syts).reset_index(drop=True)\n",
    "data"
   ]
  },
  {
   "cell_type": "markdown",
   "metadata": {},
   "source": [
    "# Coercing to categorical type"
   ]
  },
  {
   "cell_type": "code",
   "execution_count": 20,
   "metadata": {},
   "outputs": [],
   "source": [
    "categoricalFeatureNames = ['房型', '樓層', '分區']\n",
    "numericalFeatureNames = ['租金', '坪數', '格局']\n",
    "dropFeatures = ['標題', '網址', '詳情', '地址', '地區']"
   ]
  },
  {
   "cell_type": "code",
   "execution_count": 21,
   "metadata": {},
   "outputs": [],
   "source": [
    "#for var in categoricalFeatureNames:\n",
    "#   data[var] = data[var].astype('category')"
   ]
  },
  {
   "cell_type": "code",
   "execution_count": 22,
   "metadata": {},
   "outputs": [
    {
     "data": {
      "text/html": [
       "<div>\n",
       "<style scoped>\n",
       "    .dataframe tbody tr th:only-of-type {\n",
       "        vertical-align: middle;\n",
       "    }\n",
       "\n",
       "    .dataframe tbody tr th {\n",
       "        vertical-align: top;\n",
       "    }\n",
       "\n",
       "    .dataframe thead th {\n",
       "        text-align: right;\n",
       "    }\n",
       "</style>\n",
       "<table border=\"1\" class=\"dataframe\">\n",
       "  <thead>\n",
       "    <tr style=\"text-align: right;\">\n",
       "      <th></th>\n",
       "      <th>租金</th>\n",
       "      <th>房型</th>\n",
       "      <th>格局</th>\n",
       "      <th>坪數</th>\n",
       "      <th>樓層</th>\n",
       "      <th>分區</th>\n",
       "    </tr>\n",
       "  </thead>\n",
       "  <tbody>\n",
       "    <tr>\n",
       "      <th>0</th>\n",
       "      <td>8000</td>\n",
       "      <td>獨立套房</td>\n",
       "      <td>1</td>\n",
       "      <td>7.0</td>\n",
       "      <td>5</td>\n",
       "      <td>淡海</td>\n",
       "    </tr>\n",
       "    <tr>\n",
       "      <th>1</th>\n",
       "      <td>15000</td>\n",
       "      <td>獨立套房</td>\n",
       "      <td>1</td>\n",
       "      <td>8.0</td>\n",
       "      <td>3</td>\n",
       "      <td>淡海</td>\n",
       "    </tr>\n",
       "    <tr>\n",
       "      <th>2</th>\n",
       "      <td>4500</td>\n",
       "      <td>獨立套房</td>\n",
       "      <td>1</td>\n",
       "      <td>5.0</td>\n",
       "      <td>2</td>\n",
       "      <td>淡海</td>\n",
       "    </tr>\n",
       "    <tr>\n",
       "      <th>3</th>\n",
       "      <td>11500</td>\n",
       "      <td>獨立套房</td>\n",
       "      <td>1</td>\n",
       "      <td>9.0</td>\n",
       "      <td>4</td>\n",
       "      <td>淡海</td>\n",
       "    </tr>\n",
       "    <tr>\n",
       "      <th>4</th>\n",
       "      <td>5500</td>\n",
       "      <td>獨立套房</td>\n",
       "      <td>1</td>\n",
       "      <td>5.0</td>\n",
       "      <td>1</td>\n",
       "      <td>淡海</td>\n",
       "    </tr>\n",
       "    <tr>\n",
       "      <th>...</th>\n",
       "      <td>...</td>\n",
       "      <td>...</td>\n",
       "      <td>...</td>\n",
       "      <td>...</td>\n",
       "      <td>...</td>\n",
       "      <td>...</td>\n",
       "    </tr>\n",
       "    <tr>\n",
       "      <th>570</th>\n",
       "      <td>19000</td>\n",
       "      <td>整層住家</td>\n",
       "      <td>3</td>\n",
       "      <td>26.0</td>\n",
       "      <td>3</td>\n",
       "      <td>樹鶯土峽</td>\n",
       "    </tr>\n",
       "    <tr>\n",
       "      <th>571</th>\n",
       "      <td>7500</td>\n",
       "      <td>獨立套房</td>\n",
       "      <td>1</td>\n",
       "      <td>8.0</td>\n",
       "      <td>3</td>\n",
       "      <td>樹鶯土峽</td>\n",
       "    </tr>\n",
       "    <tr>\n",
       "      <th>572</th>\n",
       "      <td>22000</td>\n",
       "      <td>整層住家</td>\n",
       "      <td>2</td>\n",
       "      <td>35.6</td>\n",
       "      <td>7</td>\n",
       "      <td>樹鶯土峽</td>\n",
       "    </tr>\n",
       "    <tr>\n",
       "      <th>573</th>\n",
       "      <td>22000</td>\n",
       "      <td>整層住家</td>\n",
       "      <td>2</td>\n",
       "      <td>35.6</td>\n",
       "      <td>7</td>\n",
       "      <td>樹鶯土峽</td>\n",
       "    </tr>\n",
       "    <tr>\n",
       "      <th>574</th>\n",
       "      <td>20500</td>\n",
       "      <td>整層住家</td>\n",
       "      <td>3</td>\n",
       "      <td>32.0</td>\n",
       "      <td>8</td>\n",
       "      <td>樹鶯土峽</td>\n",
       "    </tr>\n",
       "  </tbody>\n",
       "</table>\n",
       "<p>575 rows × 6 columns</p>\n",
       "</div>"
      ],
      "text/plain": [
       "        租金    房型  格局    坪數 樓層    分區\n",
       "0     8000  獨立套房   1   7.0  5    淡海\n",
       "1    15000  獨立套房   1   8.0  3    淡海\n",
       "2     4500  獨立套房   1   5.0  2    淡海\n",
       "3    11500  獨立套房   1   9.0  4    淡海\n",
       "4     5500  獨立套房   1   5.0  1    淡海\n",
       "..     ...   ...  ..   ... ..   ...\n",
       "570  19000  整層住家   3  26.0  3  樹鶯土峽\n",
       "571   7500  獨立套房   1   8.0  3  樹鶯土峽\n",
       "572  22000  整層住家   2  35.6  7  樹鶯土峽\n",
       "573  22000  整層住家   2  35.6  7  樹鶯土峽\n",
       "574  20500  整層住家   3  32.0  8  樹鶯土峽\n",
       "\n",
       "[575 rows x 6 columns]"
      ]
     },
     "execution_count": 22,
     "metadata": {},
     "output_type": "execute_result"
    }
   ],
   "source": [
    "data = data.drop(dropFeatures, axis=1)\n",
    "data"
   ]
  },
  {
   "cell_type": "code",
   "execution_count": 23,
   "metadata": {},
   "outputs": [
    {
     "name": "stdout",
     "output_type": "stream",
     "text": [
      "<class 'pandas.core.frame.DataFrame'>\n",
      "RangeIndex: 575 entries, 0 to 574\n",
      "Data columns (total 6 columns):\n",
      " #   Column  Non-Null Count  Dtype  \n",
      "---  ------  --------------  -----  \n",
      " 0   租金      575 non-null    int32  \n",
      " 1   房型      575 non-null    object \n",
      " 2   格局      575 non-null    int32  \n",
      " 3   坪數      575 non-null    float64\n",
      " 4   樓層      575 non-null    object \n",
      " 5   分區      575 non-null    object \n",
      "dtypes: float64(1), int32(2), object(3)\n",
      "memory usage: 22.6+ KB\n"
     ]
    }
   ],
   "source": [
    "data.info()"
   ]
  },
  {
   "cell_type": "code",
   "execution_count": 24,
   "metadata": {},
   "outputs": [
    {
     "data": {
      "text/html": [
       "<div>\n",
       "<style scoped>\n",
       "    .dataframe tbody tr th:only-of-type {\n",
       "        vertical-align: middle;\n",
       "    }\n",
       "\n",
       "    .dataframe tbody tr th {\n",
       "        vertical-align: top;\n",
       "    }\n",
       "\n",
       "    .dataframe thead th {\n",
       "        text-align: right;\n",
       "    }\n",
       "</style>\n",
       "<table border=\"1\" class=\"dataframe\">\n",
       "  <thead>\n",
       "    <tr style=\"text-align: right;\">\n",
       "      <th></th>\n",
       "      <th>租金</th>\n",
       "      <th>格局</th>\n",
       "      <th>坪數</th>\n",
       "    </tr>\n",
       "  </thead>\n",
       "  <tbody>\n",
       "    <tr>\n",
       "      <th>count</th>\n",
       "      <td>575.000000</td>\n",
       "      <td>575.000000</td>\n",
       "      <td>575.000000</td>\n",
       "    </tr>\n",
       "    <tr>\n",
       "      <th>mean</th>\n",
       "      <td>18201.339130</td>\n",
       "      <td>1.582609</td>\n",
       "      <td>17.028696</td>\n",
       "    </tr>\n",
       "    <tr>\n",
       "      <th>std</th>\n",
       "      <td>14991.094945</td>\n",
       "      <td>0.914294</td>\n",
       "      <td>16.714648</td>\n",
       "    </tr>\n",
       "    <tr>\n",
       "      <th>min</th>\n",
       "      <td>2300.000000</td>\n",
       "      <td>1.000000</td>\n",
       "      <td>2.000000</td>\n",
       "    </tr>\n",
       "    <tr>\n",
       "      <th>25%</th>\n",
       "      <td>8894.000000</td>\n",
       "      <td>1.000000</td>\n",
       "      <td>7.000000</td>\n",
       "    </tr>\n",
       "    <tr>\n",
       "      <th>50%</th>\n",
       "      <td>14000.000000</td>\n",
       "      <td>1.000000</td>\n",
       "      <td>10.000000</td>\n",
       "    </tr>\n",
       "    <tr>\n",
       "      <th>75%</th>\n",
       "      <td>22800.000000</td>\n",
       "      <td>2.000000</td>\n",
       "      <td>23.750000</td>\n",
       "    </tr>\n",
       "    <tr>\n",
       "      <th>max</th>\n",
       "      <td>160000.000000</td>\n",
       "      <td>5.000000</td>\n",
       "      <td>145.000000</td>\n",
       "    </tr>\n",
       "  </tbody>\n",
       "</table>\n",
       "</div>"
      ],
      "text/plain": [
       "                  租金          格局          坪數\n",
       "count     575.000000  575.000000  575.000000\n",
       "mean    18201.339130    1.582609   17.028696\n",
       "std     14991.094945    0.914294   16.714648\n",
       "min      2300.000000    1.000000    2.000000\n",
       "25%      8894.000000    1.000000    7.000000\n",
       "50%     14000.000000    1.000000   10.000000\n",
       "75%     22800.000000    2.000000   23.750000\n",
       "max    160000.000000    5.000000  145.000000"
      ]
     },
     "execution_count": 24,
     "metadata": {},
     "output_type": "execute_result"
    }
   ],
   "source": [
    "data.describe() #去除outliers"
   ]
  },
  {
   "cell_type": "code",
   "execution_count": 25,
   "metadata": {},
   "outputs": [
    {
     "name": "stdout",
     "output_type": "stream",
     "text": [
      "shape of before outlier: (575, 6)\n",
      "shape of after outlier: (562, 6)\n"
     ]
    }
   ],
   "source": [
    "print('shape of before outlier:', data.shape)\n",
    "data = data[np.abs(data['租金']-data['租金'].mean()) <= (3*data['租金'].std()) ]\n",
    "print('shape of after outlier:', data.shape)"
   ]
  },
  {
   "cell_type": "code",
   "execution_count": 26,
   "metadata": {},
   "outputs": [
    {
     "name": "stdout",
     "output_type": "stream",
     "text": [
      "shape of before outlier: (562, 6)\n",
      "shape of after outlier: (553, 6)\n"
     ]
    }
   ],
   "source": [
    "print('shape of before outlier:', data.shape)\n",
    "data = data[np.abs(data['坪數']-data['坪數'].mean()) <= (3*data['坪數'].std()) ]\n",
    "print('shape of after outlier:', data.shape)"
   ]
  },
  {
   "cell_type": "code",
   "execution_count": 27,
   "metadata": {},
   "outputs": [
    {
     "data": {
      "text/html": [
       "<div>\n",
       "<style scoped>\n",
       "    .dataframe tbody tr th:only-of-type {\n",
       "        vertical-align: middle;\n",
       "    }\n",
       "\n",
       "    .dataframe tbody tr th {\n",
       "        vertical-align: top;\n",
       "    }\n",
       "\n",
       "    .dataframe thead th {\n",
       "        text-align: right;\n",
       "    }\n",
       "</style>\n",
       "<table border=\"1\" class=\"dataframe\">\n",
       "  <thead>\n",
       "    <tr style=\"text-align: right;\">\n",
       "      <th></th>\n",
       "      <th>租金</th>\n",
       "      <th>格局</th>\n",
       "      <th>坪數</th>\n",
       "    </tr>\n",
       "  </thead>\n",
       "  <tbody>\n",
       "    <tr>\n",
       "      <th>count</th>\n",
       "      <td>553.000000</td>\n",
       "      <td>553.000000</td>\n",
       "      <td>553.000000</td>\n",
       "    </tr>\n",
       "    <tr>\n",
       "      <th>mean</th>\n",
       "      <td>16142.867993</td>\n",
       "      <td>1.504521</td>\n",
       "      <td>14.777758</td>\n",
       "    </tr>\n",
       "    <tr>\n",
       "      <th>std</th>\n",
       "      <td>9215.100325</td>\n",
       "      <td>0.834317</td>\n",
       "      <td>11.288034</td>\n",
       "    </tr>\n",
       "    <tr>\n",
       "      <th>min</th>\n",
       "      <td>2300.000000</td>\n",
       "      <td>1.000000</td>\n",
       "      <td>2.000000</td>\n",
       "    </tr>\n",
       "    <tr>\n",
       "      <th>25%</th>\n",
       "      <td>8800.000000</td>\n",
       "      <td>1.000000</td>\n",
       "      <td>7.000000</td>\n",
       "    </tr>\n",
       "    <tr>\n",
       "      <th>50%</th>\n",
       "      <td>13500.000000</td>\n",
       "      <td>1.000000</td>\n",
       "      <td>9.000000</td>\n",
       "    </tr>\n",
       "    <tr>\n",
       "      <th>75%</th>\n",
       "      <td>22000.000000</td>\n",
       "      <td>2.000000</td>\n",
       "      <td>21.600000</td>\n",
       "    </tr>\n",
       "    <tr>\n",
       "      <th>max</th>\n",
       "      <td>50000.000000</td>\n",
       "      <td>5.000000</td>\n",
       "      <td>50.700000</td>\n",
       "    </tr>\n",
       "  </tbody>\n",
       "</table>\n",
       "</div>"
      ],
      "text/plain": [
       "                 租金          格局          坪數\n",
       "count    553.000000  553.000000  553.000000\n",
       "mean   16142.867993    1.504521   14.777758\n",
       "std     9215.100325    0.834317   11.288034\n",
       "min     2300.000000    1.000000    2.000000\n",
       "25%     8800.000000    1.000000    7.000000\n",
       "50%    13500.000000    1.000000    9.000000\n",
       "75%    22000.000000    2.000000   21.600000\n",
       "max    50000.000000    5.000000   50.700000"
      ]
     },
     "execution_count": 27,
     "metadata": {},
     "output_type": "execute_result"
    }
   ],
   "source": [
    "data.describe()"
   ]
  },
  {
   "cell_type": "code",
   "execution_count": 28,
   "metadata": {},
   "outputs": [],
   "source": [
    "data.to_csv('rentNewTaipei210921') #powerbi視覺化"
   ]
  },
  {
   "cell_type": "markdown",
   "metadata": {},
   "source": [
    "# Visualizing"
   ]
  },
  {
   "cell_type": "code",
   "execution_count": 29,
   "metadata": {},
   "outputs": [
    {
     "name": "stdout",
     "output_type": "stream",
     "text": [
      "C:\\Users\\asuss\\Anaconda3\\lib\\site-packages\\matplotlib\\pyplot.py\n"
     ]
    }
   ],
   "source": [
    "#matplotlib不支援中文字體\n",
    "#1.下載中文字體ttf\n",
    "#2.將中文字體檔案放至matplotlib路徑***(./mpl-data/fonts/ttf)\n",
    "#3.清除user底下快取fontlist.json後重新import matplotlib***(C:\\Users\\asuss\\.matplotlib)\n",
    "print(plt.__file__)"
   ]
  },
  {
   "cell_type": "code",
   "execution_count": 30,
   "metadata": {},
   "outputs": [
    {
     "name": "stdout",
     "output_type": "stream",
     "text": [
      "3 of 9 Barcode\n",
      "Agency FB\n",
      "Agency FB\n",
      "Algerian\n",
      "Arial\n",
      "Arial\n",
      "Arial\n",
      "Arial\n",
      "Arial\n",
      "Arial\n",
      "Arial\n",
      "Arial\n",
      "Arial\n",
      "Arial Rounded MT Bold\n",
      "Arial Unicode MS\n",
      "Bahnschrift\n",
      "Baskerville Old Face\n",
      "Batang\n",
      "Bauhaus 93\n",
      "Bell MT\n",
      "Bell MT\n",
      "Bell MT\n",
      "Berlin Sans FB\n",
      "Berlin Sans FB\n",
      "Berlin Sans FB Demi\n",
      "Bernard MT Condensed\n",
      "Blackadder ITC\n",
      "Bodoni MT\n",
      "Bodoni MT\n",
      "Bodoni MT\n",
      "Bodoni MT\n",
      "Bodoni MT\n",
      "Bodoni MT\n",
      "Bodoni MT\n",
      "Bodoni MT\n",
      "Bodoni MT\n",
      "Bodoni MT\n",
      "Bodoni MT\n",
      "Book Antiqua\n",
      "Book Antiqua\n",
      "Book Antiqua\n",
      "Book Antiqua\n",
      "Bookman Old Style\n",
      "Bookman Old Style\n",
      "Bookman Old Style\n",
      "Bookman Old Style\n",
      "Bookshelf Symbol 7\n",
      "Bradley Hand ITC\n",
      "Britannic Bold\n",
      "Broadway\n",
      "Brush Script MT\n",
      "Calibri\n",
      "Calibri\n",
      "Calibri\n",
      "Calibri\n",
      "Calibri\n",
      "Calibri\n",
      "Californian FB\n",
      "Californian FB\n",
      "Californian FB\n",
      "Calisto MT\n",
      "Calisto MT\n",
      "Calisto MT\n",
      "Calisto MT\n",
      "Cambria\n",
      "Cambria\n",
      "Cambria\n",
      "Cambria\n",
      "Candara\n",
      "Candara\n",
      "Candara\n",
      "Candara\n",
      "Candara\n",
      "Candara\n",
      "Castellar\n",
      "Centaur\n",
      "Century\n",
      "Century Gothic\n",
      "Century Gothic\n",
      "Century Gothic\n",
      "Century Gothic\n",
      "Century Schoolbook\n",
      "Century Schoolbook\n",
      "Century Schoolbook\n",
      "Century Schoolbook\n",
      "Chiller\n",
      "Colonna MT\n",
      "Comic Sans MS\n",
      "Comic Sans MS\n",
      "Comic Sans MS\n",
      "Comic Sans MS\n",
      "Consolas\n",
      "Consolas\n",
      "Consolas\n",
      "Consolas\n",
      "Constantia\n",
      "Constantia\n",
      "Constantia\n",
      "Constantia\n",
      "Cooper Black\n",
      "Copperplate Gothic Bold\n",
      "Copperplate Gothic Light\n",
      "Corbel\n",
      "Corbel\n",
      "Corbel\n",
      "Corbel\n",
      "Corbel\n",
      "Corbel\n",
      "Courier New\n",
      "Courier New\n",
      "Courier New\n",
      "Courier New\n",
      "Curlz MT\n",
      "DFKai-SB\n",
      "DejaVu Sans\n",
      "DejaVu Sans\n",
      "DejaVu Sans\n",
      "DejaVu Sans\n",
      "DejaVu Sans Display\n",
      "DejaVu Sans Mono\n",
      "DejaVu Sans Mono\n",
      "DejaVu Sans Mono\n",
      "DejaVu Sans Mono\n",
      "DejaVu Serif\n",
      "DejaVu Serif\n",
      "DejaVu Serif\n",
      "DejaVu Serif\n",
      "DejaVu Serif Display\n",
      "Ebrima\n",
      "Ebrima\n",
      "Edwardian Script ITC\n",
      "Elephant\n",
      "Elephant\n",
      "Engravers MT\n",
      "Eras Bold ITC\n",
      "Eras Demi ITC\n",
      "Eras Light ITC\n",
      "Eras Medium ITC\n",
      "Felix Titling\n",
      "Footlight MT Light\n",
      "Forte\n",
      "Franklin Gothic Book\n",
      "Franklin Gothic Book\n",
      "Franklin Gothic Demi\n",
      "Franklin Gothic Demi\n",
      "Franklin Gothic Demi Cond\n",
      "Franklin Gothic Heavy\n",
      "Franklin Gothic Heavy\n",
      "Franklin Gothic Medium\n",
      "Franklin Gothic Medium\n",
      "Franklin Gothic Medium Cond\n",
      "Freestyle Script\n",
      "French Script MT\n",
      "Gabriola\n",
      "Gadugi\n",
      "Gadugi\n",
      "Garamond\n",
      "Garamond\n",
      "Garamond\n",
      "Georgia\n",
      "Georgia\n",
      "Georgia\n",
      "Georgia\n",
      "Gigi\n",
      "Gill Sans MT\n",
      "Gill Sans MT\n",
      "Gill Sans MT\n",
      "Gill Sans MT\n",
      "Gill Sans MT Condensed\n",
      "Gill Sans MT Ext Condensed Bold\n",
      "Gill Sans Ultra Bold\n",
      "Gill Sans Ultra Bold Condensed\n",
      "Gloucester MT Extra Condensed\n",
      "Goudy Old Style\n",
      "Goudy Old Style\n",
      "Goudy Old Style\n",
      "Goudy Stout\n",
      "Gulim\n",
      "Haettenschweiler\n",
      "Harlow Solid Italic\n",
      "Harrington\n",
      "High Tower Text\n",
      "High Tower Text\n",
      "HoloLens MDL2 Assets\n",
      "Impact\n",
      "Imprint MT Shadow\n",
      "Informal Roman\n",
      "Ink Free\n",
      "Javanese Text\n",
      "Jokerman\n",
      "Juice ITC\n",
      "Kievit Offc Pro\n",
      "Kristen ITC\n",
      "Kunstler Script\n",
      "Leelawadee UI\n",
      "Leelawadee UI\n",
      "Leelawadee UI\n",
      "Lucida Bright\n",
      "Lucida Bright\n",
      "Lucida Bright\n",
      "Lucida Bright\n",
      "Lucida Calligraphy\n",
      "Lucida Console\n",
      "Lucida Fax\n",
      "Lucida Fax\n",
      "Lucida Fax\n",
      "Lucida Fax\n",
      "Lucida Handwriting\n",
      "Lucida Sans\n",
      "Lucida Sans\n",
      "Lucida Sans\n",
      "Lucida Sans\n",
      "Lucida Sans Typewriter\n",
      "Lucida Sans Typewriter\n",
      "Lucida Sans Typewriter\n",
      "Lucida Sans Typewriter\n",
      "Lucida Sans Unicode\n",
      "MS Gothic\n",
      "MS Outlook\n",
      "MS Reference Sans Serif\n",
      "MS Reference Specialty\n",
      "MT Extra\n",
      "MV Boli\n",
      "Magneto\n",
      "Maiandra GD\n",
      "Malgun Gothic\n",
      "Malgun Gothic\n",
      "Malgun Gothic\n",
      "Marlett\n",
      "Matura MT Script Capitals\n",
      "Microsoft Himalaya\n",
      "Microsoft JhengHei\n",
      "Microsoft JhengHei\n",
      "Microsoft JhengHei\n",
      "Microsoft New Tai Lue\n",
      "Microsoft New Tai Lue\n",
      "Microsoft PhagsPa\n",
      "Microsoft PhagsPa\n",
      "Microsoft Sans Serif\n",
      "Microsoft Tai Le\n",
      "Microsoft Tai Le\n",
      "Microsoft YaHei\n",
      "Microsoft YaHei\n",
      "Microsoft YaHei\n",
      "Microsoft Yi Baiti\n",
      "MingLiU\n",
      "MingLiU-ExtB\n",
      "Mistral\n",
      "Modern No. 20\n",
      "Mongolian Baiti\n",
      "Monotype Corsiva\n",
      "Myanmar Text\n",
      "Myanmar Text\n",
      "Niagara Engraved\n",
      "Niagara Solid\n",
      "Nirmala UI\n",
      "Nirmala UI\n",
      "Nirmala UI\n",
      "OCR A Extended\n",
      "Old English Text MT\n",
      "Onyx\n",
      "Palace Script MT\n",
      "Palatino Linotype\n",
      "Palatino Linotype\n",
      "Palatino Linotype\n",
      "Palatino Linotype\n",
      "Papyrus\n",
      "Parchment\n",
      "Perpetua\n",
      "Perpetua\n",
      "Perpetua\n",
      "Perpetua\n",
      "Perpetua Titling MT\n",
      "Perpetua Titling MT\n",
      "Playbill\n",
      "Poor Richard\n",
      "Pristina\n",
      "Rage Italic\n",
      "Ravie\n",
      "Rockwell\n",
      "Rockwell\n",
      "Rockwell\n",
      "Rockwell\n",
      "Rockwell Condensed\n",
      "Rockwell Condensed\n",
      "Rockwell Extra Bold\n",
      "STIXGeneral\n",
      "STIXGeneral\n",
      "STIXGeneral\n",
      "STIXGeneral\n",
      "STIXNonUnicode\n",
      "STIXNonUnicode\n",
      "STIXNonUnicode\n",
      "STIXNonUnicode\n",
      "STIXSizeFiveSym\n",
      "STIXSizeFourSym\n",
      "STIXSizeFourSym\n",
      "STIXSizeOneSym\n",
      "STIXSizeOneSym\n",
      "STIXSizeThreeSym\n",
      "STIXSizeThreeSym\n",
      "STIXSizeTwoSym\n",
      "STIXSizeTwoSym\n",
      "Script MT Bold\n",
      "Segoe MDL2 Assets\n",
      "Segoe Print\n",
      "Segoe Print\n",
      "Segoe Script\n",
      "Segoe Script\n",
      "Segoe UI\n",
      "Segoe UI\n",
      "Segoe UI\n",
      "Segoe UI\n",
      "Segoe UI\n",
      "Segoe UI\n",
      "Segoe UI\n",
      "Segoe UI\n",
      "Segoe UI\n",
      "Segoe UI\n",
      "Segoe UI\n",
      "Segoe UI\n",
      "Segoe UI Emoji\n",
      "Segoe UI Historic\n",
      "Segoe UI Symbol\n",
      "Showcard Gothic\n",
      "SimSun\n",
      "SimSun-ExtB\n",
      "Sitka Small\n",
      "Sitka Small\n",
      "Sitka Small\n",
      "Sitka Small\n",
      "Snap ITC\n",
      "Stencil\n",
      "Sylfaen\n",
      "Symbol\n",
      "Tahoma\n",
      "Tahoma\n",
      "Taipei Sans TC Beta\n",
      "TeamViewer15\n",
      "Tempus Sans ITC\n",
      "Times New Roman\n",
      "Times New Roman\n",
      "Times New Roman\n",
      "Times New Roman\n",
      "Trebuchet MS\n",
      "Trebuchet MS\n",
      "Trebuchet MS\n",
      "Trebuchet MS\n",
      "Tw Cen MT\n",
      "Tw Cen MT\n",
      "Tw Cen MT\n",
      "Tw Cen MT\n",
      "Tw Cen MT Condensed\n",
      "Tw Cen MT Condensed\n",
      "Tw Cen MT Condensed Extra Bold\n",
      "Verdana\n",
      "Verdana\n",
      "Verdana\n",
      "Verdana\n",
      "Viner Hand ITC\n",
      "Vivaldi\n",
      "Vladimir Script\n",
      "Webdings\n",
      "Wide Latin\n",
      "Wingdings\n",
      "Wingdings 2\n",
      "Wingdings 3\n",
      "Yu Gothic\n",
      "Yu Gothic\n",
      "Yu Gothic\n",
      "Yu Gothic\n",
      "cmb10\n",
      "cmex10\n",
      "cmmi10\n",
      "cmr10\n",
      "cmss10\n",
      "cmsy10\n",
      "cmtt10\n"
     ]
    }
   ],
   "source": [
    "#4.檢查有無成功放入中文字體:Taipei Sans TC Beta\n",
    "import matplotlib.font_manager\n",
    "a = sorted([f.name for f in matplotlib.font_manager.fontManager.ttflist])\n",
    "for i in a:\n",
    "    print(i)"
   ]
  },
  {
   "cell_type": "code",
   "execution_count": 31,
   "metadata": {},
   "outputs": [
    {
     "data": {
      "text/plain": [
       "[Text(0, 0.5, '租金'), Text(0.5, 0, '房型'), Text(0.5, 1.0, '各房型租金')]"
      ]
     },
     "execution_count": 31,
     "metadata": {},
     "output_type": "execute_result"
    },
    {
     "data": {
      "image/png": "[encoded data removed]",
      "text/plain": [
       "<Figure size 1440x1440 with 4 Axes>"
      ]
     },
     "metadata": {
      "needs_background": "light"
     },
     "output_type": "display_data"
    }
   ],
   "source": [
    "#5.畫圖前須加入指令使用中文字體\n",
    "plt.rcParams['font.sans-serif'] = ['Taipei Sans TC Beta']\n",
    "\n",
    "fig, axes = plt.subplots(nrows=2, ncols=2)\n",
    "fig.set_size_inches(20,20)\n",
    "sns.boxplot(data=data, x='分區', y='租金', orient='v', ax=axes[0][1])\n",
    "sns.boxplot(data=data, x='房型', y='租金', orient='v', ax=axes[1][0])\n",
    "axes[0][1].set(xlabel='地區', ylabel='租金', title='新北各區租金')\n",
    "axes[1][0].set(xlabel='房型', ylabel='租金', title='各房型租金')"
   ]
  },
  {
   "cell_type": "code",
   "execution_count": 32,
   "metadata": {},
   "outputs": [
    {
     "data": {
      "text/plain": [
       "[Text(0, 0.5, 'Average price'),\n",
       " Text(0.5, 0, 'Room'),\n",
       " Text(0.5, 1.0, 'Average price by room')]"
      ]
     },
     "execution_count": 32,
     "metadata": {},
     "output_type": "execute_result"
    },
    {
     "data": {
      "image/png": "[encoded data removed]",
      "text/plain": [
       "<Figure size 864x1440 with 2 Axes>"
      ]
     },
     "metadata": {
      "needs_background": "light"
     },
     "output_type": "display_data"
    }
   ],
   "source": [
    "plt.rcParams['font.sans-serif'] = ['Taipei Sans TC Beta']\n",
    "\n",
    "fig, (ax1, ax2) = plt.subplots(nrows=2)\n",
    "fig.set_size_inches(12,20)\n",
    "\n",
    "regionAgg = pd.DataFrame(data.groupby('分區')['租金'].mean()).reset_index()\n",
    "regionSort = regionAgg.sort_values(by='租金', ascending=False)\n",
    "sns.barplot(data=regionSort, x='分區', y='租金', ax=ax1) #order=regionOrder\n",
    "ax1.set(xlabel='Region', ylabel='Average price', title='Average price by region')\n",
    "\n",
    "roomAgg = pd.DataFrame(data.groupby('房型')['租金'].mean()).reset_index()\n",
    "roomSort = roomAgg.sort_values(by='租金', ascending=False)\n",
    "sns.barplot(data=roomSort, x='房型', y='租金', ax=ax2) #order=regionOrder\n",
    "ax2.set(xlabel='Room', ylabel='Average price', title='Average price by room')\n"
   ]
  },
  {
   "cell_type": "code",
   "execution_count": 37,
   "metadata": {},
   "outputs": [],
   "source": [
    "#特徵轉化為數字:'房型', '樓層', '分區'\n",
    "data['房型'] = data['房型'].astype('category').cat.codes\n",
    "data['樓層'] = data['樓層'].astype('category').cat.codes\n",
    "data['分區'] = data['分區'].astype('category').cat.codes"
   ]
  },
  {
   "cell_type": "markdown",
   "metadata": {},
   "source": [
    "# Correlation"
   ]
  },
  {
   "cell_type": "code",
   "execution_count": 40,
   "metadata": {},
   "outputs": [
    {
     "data": {
      "text/plain": [
       "Text(0.5, 1, 'Tri-corr heatmap')"
      ]
     },
     "execution_count": 40,
     "metadata": {},
     "output_type": "execute_result"
    },
    {
     "data": {
      "image/png": "[encoded data removed]",
      "text/plain": [
       "<Figure size 720x360 with 2 Axes>"
      ]
     },
     "metadata": {
      "needs_background": "light"
     },
     "output_type": "display_data"
    }
   ],
   "source": [
    "corrMatt = data[['租金', '格局', '坪數']].corr()\n",
    "mask = np.triu(np.ones_like(corrMatt, dtype=np.bool), 1) #上三角形起始點往右平移一格 保留corr=1\n",
    "\n",
    "fig, ax = plt.subplots()\n",
    "fig.set_size_inches(10,5)\n",
    "corrHeat = sns.heatmap(corrMatt, mask=mask, vmax=1, annot=True, square=True, cmap='BrBG')\n",
    "corrHeat.set_title('Tri-corr heatmap', fontdict={'fontsize':16}, pad=10)"
   ]
  },
  {
   "cell_type": "code",
   "execution_count": 34,
   "metadata": {},
   "outputs": [
    {
     "data": {
      "text/plain": [
       "Text(0.5, 1, 'Features corr with price')"
      ]
     },
     "execution_count": 34,
     "metadata": {},
     "output_type": "execute_result"
    },
    {
     "data": {
      "image/png": "[encoded data removed]",
      "text/plain": [
       "<Figure size 432x288 with 2 Axes>"
      ]
     },
     "metadata": {
      "needs_background": "light"
     },
     "output_type": "display_data"
    }
   ],
   "source": [
    "sortHeat = sns.heatmap(corrMatt[['租金']].sort_values(by='租金', ascending=False), vmin=-1, vmax=1, annot=True, cmap='BrBG')\n",
    "sortHeat.set_title('Features corr with price', fontdict={'fontsize':16}, pad=10)"
   ]
  },
  {
   "cell_type": "markdown",
   "metadata": {},
   "source": [
    "# Split train & test"
   ]
  },
  {
   "cell_type": "code",
   "execution_count": 41,
   "metadata": {},
   "outputs": [],
   "source": [
    "from sklearn.model_selection import train_test_split\n",
    "from sklearn.ensemble import RandomForestRegressor"
   ]
  },
  {
   "cell_type": "code",
   "execution_count": 43,
   "metadata": {},
   "outputs": [],
   "source": [
    "x_train, x_test, y_train, y_test = train_test_split(\n",
    "    data[['房型','格局','坪數','樓層','分區']], data[['租金']], random_state=42, train_size=0.8)"
   ]
  },
  {
   "cell_type": "code",
   "execution_count": 45,
   "metadata": {},
   "outputs": [
    {
     "name": "stderr",
     "output_type": "stream",
     "text": [
      "C:\\Users\\asuss\\Anaconda3\\lib\\site-packages\\ipykernel_launcher.py:2: DataConversionWarning: A column-vector y was passed when a 1d array was expected. Please change the shape of y to (n_samples,), for example using ravel().\n",
      "  \n",
      "C:\\Users\\asuss\\Anaconda3\\lib\\site-packages\\sklearn\\ensemble\\base.py:158: DeprecationWarning: `np.int` is a deprecated alias for the builtin `int`. To silence this warning, use `int` by itself. Doing this will not modify any behavior and is safe. When replacing `np.int`, you may wish to use e.g. `np.int64` or `np.int32` to specify the precision. If you wish to review your current use, check the release note link for additional information.\n",
      "Deprecated in NumPy 1.20; for more details and guidance: https://numpy.org/devdocs/release/1.20.0-notes.html#deprecations\n",
      "  dtype=np.int)\n"
     ]
    }
   ],
   "source": [
    "model = RandomForestRegressor(n_estimators=100, random_state=42, oob_score=True)\n",
    "model.fit(x_train, y_train)\n",
    "pred = model.predict(x_test)"
   ]
  },
  {
   "cell_type": "code",
   "execution_count": 46,
   "metadata": {},
   "outputs": [
    {
     "data": {
      "text/html": [
       "<div>\n",
       "<style scoped>\n",
       "    .dataframe tbody tr th:only-of-type {\n",
       "        vertical-align: middle;\n",
       "    }\n",
       "\n",
       "    .dataframe tbody tr th {\n",
       "        vertical-align: top;\n",
       "    }\n",
       "\n",
       "    .dataframe thead th {\n",
       "        text-align: right;\n",
       "    }\n",
       "</style>\n",
       "<table border=\"1\" class=\"dataframe\">\n",
       "  <thead>\n",
       "    <tr style=\"text-align: right;\">\n",
       "      <th></th>\n",
       "      <th>租金</th>\n",
       "    </tr>\n",
       "  </thead>\n",
       "  <tbody>\n",
       "    <tr>\n",
       "      <th>570</th>\n",
       "      <td>19000</td>\n",
       "    </tr>\n",
       "    <tr>\n",
       "      <th>83</th>\n",
       "      <td>12000</td>\n",
       "    </tr>\n",
       "    <tr>\n",
       "      <th>545</th>\n",
       "      <td>9500</td>\n",
       "    </tr>\n",
       "    <tr>\n",
       "      <th>350</th>\n",
       "      <td>45000</td>\n",
       "    </tr>\n",
       "    <tr>\n",
       "      <th>133</th>\n",
       "      <td>11000</td>\n",
       "    </tr>\n",
       "    <tr>\n",
       "      <th>...</th>\n",
       "      <td>...</td>\n",
       "    </tr>\n",
       "    <tr>\n",
       "      <th>141</th>\n",
       "      <td>15000</td>\n",
       "    </tr>\n",
       "    <tr>\n",
       "      <th>150</th>\n",
       "      <td>23800</td>\n",
       "    </tr>\n",
       "    <tr>\n",
       "      <th>517</th>\n",
       "      <td>7800</td>\n",
       "    </tr>\n",
       "    <tr>\n",
       "      <th>156</th>\n",
       "      <td>23000</td>\n",
       "    </tr>\n",
       "    <tr>\n",
       "      <th>175</th>\n",
       "      <td>12888</td>\n",
       "    </tr>\n",
       "  </tbody>\n",
       "</table>\n",
       "<p>111 rows × 1 columns</p>\n",
       "</div>"
      ],
      "text/plain": [
       "        租金\n",
       "570  19000\n",
       "83   12000\n",
       "545   9500\n",
       "350  45000\n",
       "133  11000\n",
       "..     ...\n",
       "141  15000\n",
       "150  23800\n",
       "517   7800\n",
       "156  23000\n",
       "175  12888\n",
       "\n",
       "[111 rows x 1 columns]"
      ]
     },
     "execution_count": 46,
     "metadata": {},
     "output_type": "execute_result"
    }
   ],
   "source": [
    "y_test"
   ]
  },
  {
   "cell_type": "code",
   "execution_count": 53,
   "metadata": {},
   "outputs": [
    {
     "data": {
      "text/plain": [
       "array([[19000],\n",
       "       [12000],\n",
       "       [ 9500],\n",
       "       [45000],\n",
       "       [11000],\n",
       "       [15888],\n",
       "       [ 8000],\n",
       "       [ 3800],\n",
       "       [15000],\n",
       "       [29000],\n",
       "       [38000],\n",
       "       [21000],\n",
       "       [ 8000],\n",
       "       [33000],\n",
       "       [19000],\n",
       "       [15500],\n",
       "       [13000],\n",
       "       [19800],\n",
       "       [33500],\n",
       "       [17500],\n",
       "       [21000],\n",
       "       [ 9000],\n",
       "       [33500],\n",
       "       [15000],\n",
       "       [10000],\n",
       "       [19000],\n",
       "       [28000],\n",
       "       [35000],\n",
       "       [ 8000],\n",
       "       [ 8800],\n",
       "       [16000],\n",
       "       [11500],\n",
       "       [ 9500],\n",
       "       [28400],\n",
       "       [13950],\n",
       "       [31000],\n",
       "       [28000],\n",
       "       [12000],\n",
       "       [ 4500],\n",
       "       [ 7800],\n",
       "       [28000],\n",
       "       [12000],\n",
       "       [11000],\n",
       "       [18888],\n",
       "       [15000],\n",
       "       [12000],\n",
       "       [ 8500],\n",
       "       [50000],\n",
       "       [14800],\n",
       "       [ 9000],\n",
       "       [ 6300],\n",
       "       [ 7500],\n",
       "       [35000],\n",
       "       [ 8000],\n",
       "       [18500],\n",
       "       [ 9800],\n",
       "       [ 8500],\n",
       "       [ 6000],\n",
       "       [10000],\n",
       "       [13200],\n",
       "       [11000],\n",
       "       [24800],\n",
       "       [18000],\n",
       "       [11800],\n",
       "       [14800],\n",
       "       [25000],\n",
       "       [22000],\n",
       "       [19800],\n",
       "       [16000],\n",
       "       [27000],\n",
       "       [10000],\n",
       "       [24800],\n",
       "       [ 8500],\n",
       "       [13000],\n",
       "       [46000],\n",
       "       [32000],\n",
       "       [10000],\n",
       "       [19000],\n",
       "       [48500],\n",
       "       [14000],\n",
       "       [ 7500],\n",
       "       [ 7000],\n",
       "       [ 5500],\n",
       "       [ 9000],\n",
       "       [40000],\n",
       "       [17500],\n",
       "       [13500],\n",
       "       [19800],\n",
       "       [12000],\n",
       "       [20500],\n",
       "       [30000],\n",
       "       [16000],\n",
       "       [ 8000],\n",
       "       [22000],\n",
       "       [12800],\n",
       "       [11000],\n",
       "       [ 7500],\n",
       "       [ 8000],\n",
       "       [ 8300],\n",
       "       [24800],\n",
       "       [19500],\n",
       "       [13000],\n",
       "       [16000],\n",
       "       [35000],\n",
       "       [ 7300],\n",
       "       [ 5800],\n",
       "       [15000],\n",
       "       [23800],\n",
       "       [ 7800],\n",
       "       [23000],\n",
       "       [12888]])"
      ]
     },
     "execution_count": 53,
     "metadata": {},
     "output_type": "execute_result"
    }
   ],
   "source": [
    "y_test = np.array(y_test)\n",
    "y_test"
   ]
  },
  {
   "cell_type": "code",
   "execution_count": 47,
   "metadata": {},
   "outputs": [
    {
     "data": {
      "text/plain": [
       "array([22244.98      , 17594.        ,  9937.        , 39980.        ,\n",
       "       13790.94      , 10177.27633478,  6555.        ,  4347.33333333,\n",
       "       14626.71980952, 25458.        , 24898.        , 21639.        ,\n",
       "        8071.18831169, 28300.        , 19232.        , 15616.3968254 ,\n",
       "       10569.76666667, 18166.        , 23096.        , 18452.66666667,\n",
       "       28416.66      ,  7117.21666667, 23096.        , 11744.        ,\n",
       "       10581.11029024, 13672.        , 31798.        , 23302.8       ,\n",
       "        7258.16666667, 10177.27633478, 20738.99      , 11943.66666667,\n",
       "        8141.45595238, 22414.386     , 11017.82066667, 24828.62      ,\n",
       "       33810.96      , 11610.        ,  6009.        ,  9143.41666667,\n",
       "       25637.8       , 13028.20729548, 13649.48742857, 16073.49622222,\n",
       "       16073.49622222, 13028.20729548, 10410.72222222, 25078.6       ,\n",
       "       25604.        ,  7111.06666667,  6095.83333333, 10410.72222222,\n",
       "       35084.        , 13028.20729548, 17677.        ,  9718.80839683,\n",
       "        7111.06666667,  9121.33333333,  9240.32539683,  6467.68095238,\n",
       "        8469.30681818, 25198.54      , 13422.79555556, 15923.64914286,\n",
       "       15616.3968254 , 27763.63      , 22199.98      , 18166.        ,\n",
       "       16407.9952381 , 29063.552     ,  9879.66269841, 24544.6       ,\n",
       "       14733.38552381, 11667.5       , 37048.        , 23149.4       ,\n",
       "       11044.5       , 18272.        , 23767.4       , 18726.5       ,\n",
       "        8978.73809524,  8687.79166667,  5406.        ,  8945.83333333,\n",
       "       34067.8       , 11168.        , 12020.        , 20303.64      ,\n",
       "        9664.        , 21188.76      , 27100.        , 12637.94      ,\n",
       "        9121.33333333, 23000.        , 10581.11029024, 11017.82066667,\n",
       "       15066.14288889,  7915.82333333,  7475.5       , 21862.06857143,\n",
       "       22299.98      , 10177.27633478, 18774.66      , 35719.8       ,\n",
       "       10493.40666667,  7070.93333333, 19429.        , 28161.6       ,\n",
       "        8644.81666667, 27925.93485714, 11321.37180952])"
      ]
     },
     "execution_count": 47,
     "metadata": {},
     "output_type": "execute_result"
    }
   ],
   "source": [
    "pred"
   ]
  },
  {
   "cell_type": "code",
   "execution_count": 50,
   "metadata": {},
   "outputs": [
    {
     "data": {
      "text/plain": [
       "array([22245., 17594.,  9937., 39980., 13791., 10177.,  6555.,  4347.,\n",
       "       14627., 25458., 24898., 21639.,  8071., 28300., 19232., 15616.,\n",
       "       10570., 18166., 23096., 18453., 28417.,  7117., 23096., 11744.,\n",
       "       10581., 13672., 31798., 23303.,  7258., 10177., 20739., 11944.,\n",
       "        8141., 22414., 11018., 24829., 33811., 11610.,  6009.,  9143.,\n",
       "       25638., 13028., 13649., 16073., 16073., 13028., 10411., 25079.,\n",
       "       25604.,  7111.,  6096., 10411., 35084., 13028., 17677.,  9719.,\n",
       "        7111.,  9121.,  9240.,  6468.,  8469., 25199., 13423., 15924.,\n",
       "       15616., 27764., 22200., 18166., 16408., 29064.,  9880., 24545.,\n",
       "       14733., 11668., 37048., 23149., 11044., 18272., 23767., 18726.,\n",
       "        8979.,  8688.,  5406.,  8946., 34068., 11168., 12020., 20304.,\n",
       "        9664., 21189., 27100., 12638.,  9121., 23000., 10581., 11018.,\n",
       "       15066.,  7916.,  7476., 21862., 22300., 10177., 18775., 35720.,\n",
       "       10493.,  7071., 19429., 28162.,  8645., 27926., 11321.])"
      ]
     },
     "execution_count": 50,
     "metadata": {},
     "output_type": "execute_result"
    }
   ],
   "source": [
    "pred = np.round(pred)\n",
    "pred"
   ]
  },
  {
   "cell_type": "code",
   "execution_count": 58,
   "metadata": {},
   "outputs": [
    {
     "data": {
      "text/plain": [
       "[<matplotlib.lines.Line2D at 0x26e090eef60>]"
      ]
     },
     "execution_count": 58,
     "metadata": {},
     "output_type": "execute_result"
    },
    {
     "data": {
      "image/png": "[encoded data removed]",
      "text/plain": [
       "<Figure size 1440x720 with 1 Axes>"
      ]
     },
     "metadata": {
      "needs_background": "light"
     },
     "output_type": "display_data"
    }
   ],
   "source": [
    "plt.figure(figsize=(20,10))\n",
    "plt.plot(pred, 's-', color = 'r', label='presiction')\n",
    "plt.plot(y_test, 'o-', color = 'g', label='target')"
   ]
  },
  {
   "cell_type": "code",
   "execution_count": 55,
   "metadata": {},
   "outputs": [
    {
     "name": "stdout",
     "output_type": "stream",
     "text": [
      "rmse error is:13114.949072530437\n"
     ]
    }
   ],
   "source": [
    "def rmse(predictions, targets):\n",
    "    return np.sqrt(((predictions - targets) **2).mean())\n",
    "\n",
    "rmse_val = rmse(pred, y_test)\n",
    "print(\"rmse error is:\" + str(rmse_val))"
   ]
  },
  {
   "cell_type": "code",
   "execution_count": null,
   "metadata": {},
   "outputs": [],
   "source": []
  }
 ],
 "metadata": {
  "kernelspec": {
   "display_name": "Python 3",
   "language": "python",
   "name": "python3"
  },
  "language_info": {
   "codemirror_mode": {
    "name": "ipython",
    "version": 3
   },
   "file_extension": ".py",
   "mimetype": "text/x-python",
   "name": "python",
   "nbconvert_exporter": "python",
   "pygments_lexer": "ipython3",
   "version": "3.7.3"
  }
 },
 "nbformat": 4,
 "nbformat_minor": 2
}
