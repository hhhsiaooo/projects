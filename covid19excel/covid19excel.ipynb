{
 "cells": [
  {
   "cell_type": "code",
   "execution_count": 2,
   "metadata": {},
   "outputs": [],
   "source": [
    "import numpy as np\n",
    "import pandas as pd\n",
    "import xlsxwriter"
   ]
  },
  {
   "cell_type": "code",
   "execution_count": 3,
   "metadata": {
    "scrolled": true
   },
   "outputs": [
    {
     "name": "stdout",
     "output_type": "stream",
     "text": [
      "              Country/Region        Lat        Long     date   count  year\n",
      "0                Afghanistan  33.939110   67.709953  1/22/20       0  2020\n",
      "1                    Albania  41.153300   20.168300  1/22/20       0  2020\n",
      "2                    Algeria  28.033900    1.659600  1/22/20       0  2020\n",
      "3                    Andorra  42.506300    1.521800  1/22/20       0  2020\n",
      "4                     Angola -11.202700   17.873900  1/22/20       0  2020\n",
      "...                      ...        ...         ...      ...     ...   ...\n",
      "219811    West Bank and Gaza  31.952200   35.233200   3/5/22  649971  2022\n",
      "219812  Winter Olympics 2022  39.904200  116.407400   3/5/22     530  2022\n",
      "219813                 Yemen  15.552727   48.516388   3/5/22   11775  2022\n",
      "219814                Zambia -13.133897   27.849332   3/5/22  313744  2022\n",
      "219815              Zimbabwe -19.015438   29.154857   3/5/22  239019  2022\n",
      "\n",
      "[219816 rows x 6 columns]\n",
      "[['Japan', '2020', 235749], ['Japan', '2021', 1732296], ['Japan', '2022', 5341246], ['Taiwan*', '2020', 799], ['Taiwan*', '2021', 17029], ['Taiwan*', '2022', 20797], ['US', '2020', 20193136], ['US', '2021', 54810020], ['US', '2022', 79265726]]\n"
     ]
    }
   ],
   "source": [
    "files = [\"confirmed_global.csv\"]#, \"deaths_global.csv\", \"recovered_global.csv\"]\n",
    "\n",
    "writer = pd.ExcelWriter('covid19.xlsx', engine = 'xlsxwriter')\n",
    "workbook = writer.book\n",
    "\n",
    "for f in files:\n",
    "    df = pd.read_csv(\"https://github.com/CSSEGISandData/COVID-19/raw/master/csse_covid_19_data/csse_covid_19_time_series/time_series_covid19_\" + f)\n",
    "    df = pd.melt(df, id_vars=df.columns[:4], value_vars=df.columns[4:], var_name=\"date\", value_name=\"count\")\n",
    "    \n",
    "    #萃取年分資料，刪除地區欄位\n",
    "    df['year'] =  '20' + df['date'].str.split('/').str.get(2)\n",
    "    del df['Province/State']\n",
    "    print(df)\n",
    "    \n",
    "    #提取台/美/日人數總和為df1\n",
    "    df1 = df[df['Country/Region'].isin(['Taiwan*', 'US', 'Japan'])]\n",
    "    df1 = df1[['Country/Region', 'year', 'count']]\n",
    "    df1 = df1.groupby(['Country/Region', 'year']).max()\n",
    "    df1.reset_index(inplace=True)\n",
    "    df1 = np.array(df1).tolist()\n",
    "    print(df1)\n",
    "    \n",
    "    #將df寫成excel工作表，再插入df1的資料\n",
    "    df.to_excel(writer, f, index=False, header=False, startrow=1, startcol=0)\n",
    "    worksheet = writer.sheets[f]\n",
    "    format_title = workbook.add_format({'valign':'vcenter', 'align':'center', 'bold':True, 'bg_color':'cccccc', 'font_size':14})\n",
    "    \n",
    "    worksheet.write_row('A1', ['國家', '緯度', '經度', '日期', '人數', '年'], cell_format=format_title) #插入df標題\n",
    "    worksheet.write_row('H3', ['國家','年份', '總人數'], cell_format=format_title) #插入df1標題\n",
    "    worksheet.set_column('J:J', 20)\n",
    "    worksheet.write_row('H4', df1[0])\n",
    "    worksheet.write_row('H5', df1[1])\n",
    "    worksheet.write_row('H6', df1[2])\n",
    "    worksheet.write_row('H7', df1[3])\n",
    "    worksheet.write_row('H8', df1[4])\n",
    "    worksheet.write_row('H9', df1[5])\n",
    "    worksheet.write_row('H10', df1[6])\n",
    "    worksheet.write_row('H11', df1[7])\n",
    "    worksheet.write_row('H12', df1[8])\n",
    "    \n",
    "    #長條圖\n",
    "    chart = workbook.add_chart({'type':'column'})\n",
    "    chart.add_series({\n",
    "        'categories':f'={f}!$I$4:$I$6',\n",
    "        'values':f'={f}!$J$4:$J$6',\n",
    "        'name':f'={f}!$H4'\n",
    "    })\n",
    "    chart.add_series({\n",
    "        'categories':f'={f}!$I$7:$I$9',\n",
    "        'values':f'={f}!$J$7:$J$9',\n",
    "        'name':f'={f}!$H$7'\n",
    "    })\n",
    "    chart.add_series({\n",
    "        'categories':f'={f}!$I$10:$I$12',\n",
    "        'values':f'={f}!$J$10:$J$12',\n",
    "        'name':f'={f}!$H$10'\n",
    "    })\n",
    "    worksheet.insert_chart('L3', chart)\n",
    "    \n",
    "writer.save()\n",
    "workbook.close()"
   ]
  },
  {
   "cell_type": "code",
   "execution_count": null,
   "metadata": {},
   "outputs": [],
   "source": []
  }
 ],
 "metadata": {
  "kernelspec": {
   "display_name": "Python 3",
   "language": "python",
   "name": "python3"
  },
  "language_info": {
   "codemirror_mode": {
    "name": "ipython",
    "version": 3
   },
   "file_extension": ".py",
   "mimetype": "text/x-python",
   "name": "python",
   "nbconvert_exporter": "python",
   "pygments_lexer": "ipython3",
   "version": "3.7.3"
  }
 },
 "nbformat": 4,
 "nbformat_minor": 2
}
