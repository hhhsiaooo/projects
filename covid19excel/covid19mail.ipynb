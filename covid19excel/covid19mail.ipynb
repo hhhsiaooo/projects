{
 "cells": [
  {
   "cell_type": "code",
   "execution_count": 9,
   "metadata": {},
   "outputs": [],
   "source": [
    "import smtplib\n",
    "from email.mime.multipart import MIMEMultipart\n",
    "from email.mime.text import MIMEText\n",
    "from email.mime.application import MIMEApplication\n",
    "import ssl"
   ]
  },
  {
   "cell_type": "code",
   "execution_count": 2,
   "metadata": {},
   "outputs": [],
   "source": [
    "#\n",
    "gmail_user = 'dwarfxiao@gmail.com'\n",
    "pwd = 'l048o737v592e'\n",
    "from_address = gmail_user\n",
    "to_address = gmail_user\n",
    "subject = 'COVID19 info from CSSE'\n",
    "contents = 'FYI'\n",
    "attachment = 'path\\\\covid19.xlsx'"
   ]
  },
  {
   "cell_type": "code",
   "execution_count": 10,
   "metadata": {},
   "outputs": [
    {
     "data": {
      "text/plain": [
       "(221,\n",
       " b'2.0.0 closing connection s42-20020a056a0017aa00b004df8133df4asm12238986pfg.179 - gsmtp')"
      ]
     },
     "execution_count": 10,
     "metadata": {},
     "output_type": "execute_result"
    }
   ],
   "source": [
    "mail = MIMEMultipart()\n",
    "mail['From'] = from_address\n",
    "mail['To'] = to_address\n",
    "mail['subject'] = subject\n",
    "\n",
    "mail.attach(MIMEText(contents))\n",
    "\n",
    "part = MIMEApplication(open('covid19.xlsx', 'rb').read())\n",
    "part.add_header('Content-Disposition', 'attachment', filename='covid19.xlsx')\n",
    "mail.attach(part)\n",
    "\n",
    "s = smtplib.SMTP_SSL('smtp.gmail.com', 465)\n",
    "s.ehlo()\n",
    "s.login(gmail_user, pwd)\n",
    "s.sendmail(from_address, to_address, mail.as_string())\n",
    "s.quit()"
   ]
  },
  {
   "cell_type": "code",
   "execution_count": null,
   "metadata": {},
   "outputs": [],
   "source": []
  }
 ],
 "metadata": {
  "kernelspec": {
   "display_name": "Python 3",
   "language": "python",
   "name": "python3"
  },
  "language_info": {
   "codemirror_mode": {
    "name": "ipython",
    "version": 3
   },
   "file_extension": ".py",
   "mimetype": "text/x-python",
   "name": "python",
   "nbconvert_exporter": "python",
   "pygments_lexer": "ipython3",
   "version": "3.7.3"
  }
 },
 "nbformat": 4,
 "nbformat_minor": 2
}
